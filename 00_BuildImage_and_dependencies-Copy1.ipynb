{
 "cells": [
  {
   "cell_type": "code",
   "execution_count": 1,
   "metadata": {},
   "outputs": [
    {
     "name": "stdout",
     "output_type": "stream",
     "text": [
      "Client:\r\n",
      " Version:      1.13.1\r\n",
      " API version:  1.26\r\n",
      " Go version:   go1.6.2\r\n",
      " Git commit:   092cba3\r\n",
      " Built:        Thu Nov  2 20:40:23 2017\r\n",
      " OS/Arch:      linux/amd64\r\n",
      "\r\n",
      "Server:\r\n",
      " Version:      1.13.1\r\n",
      " API version:  1.26 (minimum version 1.12)\r\n",
      " Go version:   go1.6.2\r\n",
      " Git commit:   092cba3\r\n",
      " Built:        Thu Nov  2 20:40:23 2017\r\n",
      " OS/Arch:      linux/amd64\r\n",
      " Experimental: false\r\n"
     ]
    }
   ],
   "source": [
    "!docker version"
   ]
  },
  {
   "cell_type": "code",
   "execution_count": 2,
   "metadata": {
    "scrolled": true
   },
   "outputs": [
    {
     "name": "stdout",
     "output_type": "stream",
     "text": [
      "mkdir: cannot create directory ‘flaskwebapp’: File exists\n",
      "mkdir: cannot create directory ‘flaskwebapp/code’: File exists\n",
      "mkdir: cannot create directory ‘flaskwebapp/etc’: File exists\n"
     ]
    }
   ],
   "source": [
    "!mkdir flaskwebapp\n",
    "!mkdir flaskwebapp/code\n",
    "!mkdir flaskwebapp/etc"
   ]
  },
  {
   "cell_type": "code",
   "execution_count": 3,
   "metadata": {},
   "outputs": [],
   "source": [
    "!cp /poc/AZ/Kate/returnsModel_2.1-8.tar.gz flaskwebapp/code/\n",
    "!cp /poc/AZ/Kate/OR_IR6_2017-11-28_modelling.RData flaskwebapp/code/"
   ]
  },
  {
   "cell_type": "code",
   "execution_count": 4,
   "metadata": {},
   "outputs": [],
   "source": [
    "import os\n",
    "from os import path\n",
    "import json \n",
    "\n",
    "image_name = \"thbeh/collections\"\n",
    "application_path = 'flaskwebapp'\n",
    "docker_file_location = path.join(application_path, 'Dockerfile')"
   ]
  },
  {
   "cell_type": "code",
   "execution_count": 5,
   "metadata": {},
   "outputs": [
    {
     "name": "stdout",
     "output_type": "stream",
     "text": [
      "Overwriting flaskwebapp/packages.R\n"
     ]
    }
   ],
   "source": [
    "%%writefile flaskwebapp/packages.R\n",
    "#install.packages(c(\"randomForest\"), \n",
    "#                   repos = \"http://cran.us.r-project.org\", dependencies = TRUE)\n",
    "\n",
    "## install.packages(\"/poc/AZ/Kate/returnsModel_2.1-6.tar.gz\", repos = NULL, type = \"source\")\n"
   ]
  },
  {
   "cell_type": "code",
   "execution_count": 6,
   "metadata": {},
   "outputs": [
    {
     "name": "stdout",
     "output_type": "stream",
     "text": [
      "Overwriting flaskwebapp/code/scoreDrill.R\n"
     ]
    }
   ],
   "source": [
    "%%writefile flaskwebapp/code/scoreDrill.R\n",
    "\n",
    "#suppressMessages(library(psych))\n",
    "#suppressMessages(library(jsonlite))\n",
    "#suppressMessages(library(sergeant))\n",
    "suppressMessages(library(returnsModel))\n",
    "\n",
    "options(warn = -1)\n",
    "\n",
    "#* @post /predict\n",
    "runModel <- function(nr) {\n",
    "    RunModellingAndScoringTest(model=\"OR\", returnName=\"IR6\", projectStage=\"TEST\", nrows=nr)\n",
    "}\n",
    "\n",
    "#* @post /domodelling\n",
    "refreshmodel <- function(model=\"OR\", returnName=\"IR6\", projectStage=\"TEST\", nrows=1000){\n",
    "    \n",
    "    RefreshModel(model=model, returnName=returnName, projectStage=projectStage, nrows=nrows)\n",
    "    \n",
    "    #output <- RefreshModel(model=model, returnName=returnName, projectStage=projectStage, nrows=nrows)\n",
    "    #AssignOutput(output, env= environment())\n",
    "  \n",
    "    #runDate <- format(Sys.Date(), \"%Y-%m-%d\")\n",
    "    #imageName <- paste0(\"/code/\", model,\"_\", returnName, \"_\", runDate, \"_modelling.RData\") \n",
    "    #save(list=names(output), file=imageName)\n",
    "    #imageName\n",
    "}\n",
    "\n",
    "\n",
    "#* @post /testload\n",
    "testload <- function(){\n",
    "    e <<- .GlobalEnv\n",
    "    load(\"/code/OR_IR6_2017-11-28_modelling.RData\", envir=e)\n",
    "    print(e$covYearsBack)\n",
    "}\n",
    "\n",
    "\n",
    "#* @post /doscoring\n",
    "doscoring <- function(model=\"OR\", returnName=\"IR6\", modelRunDate=\"2017-11-28\", projectStage=\"TEST\", nrows=1000, \n",
    "              irdNumbersForScoring=\"\"){\n",
    "    e <<- .GlobalEnv\n",
    "    imageName <- paste0(model, \"_\", returnName, \"_\", modelRunDate, \"_modelling.RData\")\n",
    "    load(paste0(\"/code/\", imageName), envir=e)\n",
    "    \n",
    "    e$model <- model\n",
    "    e$returnName <- returnName\n",
    "    e$modelRunDate <- modelRunDate\n",
    "    e$projectStage <- projectStage\n",
    "    e$nrows <- nrows\n",
    "    e$irdNumbersForScoring <- irdNumbersForScoring\n",
    "    \n",
    "    DoScoring(model=e$model, returnName=e$returnName, modelRunDate=e$modelRunDate, projectStage=e$projectStage, \n",
    "              nrows=e$nrows, irdNumbersForScoring=e$irdNumbersForScoring, e=e)\n",
    "    \n",
    "}\n"
   ]
  },
  {
   "cell_type": "code",
   "execution_count": 7,
   "metadata": {},
   "outputs": [
    {
     "name": "stdout",
     "output_type": "stream",
     "text": [
      "Overwriting flaskwebapp/etc/supervisord.conf\n"
     ]
    }
   ],
   "source": [
    "%%writefile flaskwebapp/etc/supervisord.conf\n",
    "[supervisord]\n",
    "logfile=/tmp/supervisord.log ; (main log file;default $CWD/supervisord.log)\n",
    "logfile_maxbytes=50MB        ; (max main logfile bytes b4 rotation;default 50MB)\n",
    "logfile_backups=10           ; (num of main logfile rotation backups;default 10)\n",
    "loglevel=info                ; (log level;default info; others: debug,warn,trace)\n",
    "pidfile=/tmp/supervisord.pid ; (supervisord pidfile;default supervisord.pid)\n",
    "nodaemon=true               ; (start in foreground if true;default false)\n",
    "minfds=1024                  ; (min. avail startup file descriptors;default 1024)\n",
    "minprocs=200                 ; (min. avail process descriptors;default 200)\n",
    "\n",
    "[program:plumber]\n",
    "command=/usr/bin/Rscript -e \"pr <- plumber::plumb('/code/scoreDrill.R'); pr$run(host='0.0.0.0', port=8000)\"\n",
    "startretries=2\n",
    "startsecs=5\n",
    "priority=3\n",
    "\n",
    "[eventlistener:program_exit]\n",
    "command=python kill_supervisor.py\n",
    "directory=/code\n",
    "events=PROCESS_STATE_FATAL\n",
    "priority=2"
   ]
  },
  {
   "cell_type": "code",
   "execution_count": 8,
   "metadata": {},
   "outputs": [
    {
     "name": "stdout",
     "output_type": "stream",
     "text": [
      "Overwriting flaskwebapp/Dockerfile\n"
     ]
    }
   ],
   "source": [
    "%%writefile flaskwebapp/Dockerfile\n",
    "FROM thbeh/r-base:3.4.2\n",
    "\n",
    "RUN apt-get update && apt-get install -y supervisor libxml2-dev\n",
    "\n",
    "COPY packages.R /tmp/\n",
    "COPY scoreDrill.R /tmp/\n",
    "\n",
    "RUN mkdir /code\n",
    "ADD code /code\n",
    "ADD etc /etc\n",
    "\n",
    "RUN Rscript /tmp/packages.R\n",
    "RUN R CMD INSTALL /code/returnsModel_2.1-8.tar.gz\n",
    "\n",
    "EXPOSE 8000\n",
    "CMD [\"supervisord\",\"-c\", \"/etc/supervisord.conf\"]\n"
   ]
  },
  {
   "cell_type": "code",
   "execution_count": 9,
   "metadata": {},
   "outputs": [
    {
     "name": "stdout",
     "output_type": "stream",
     "text": [
      "total 255899\r\n",
      "-rwxrwxrwx 1 user00 user00       885 Nov 26 20:36 kill_supervisor.py\r\n",
      "-rw-r--r-- 1 eked67 eked67 261555158 Nov 29 05:00 OR_IR6_2017-11-28_modelling.RData\r\n",
      "-rw-rw-rw- 1 user00 user00    159017 Nov 27 03:50 returnsModel_2.1-6.tar.gz\r\n",
      "-rw-rw-rw- 1 user00 user00    160068 Nov 28 02:35 returnsModel_2.1-7.tar.gz\r\n",
      "-rw-r--r-- 1 eked67 eked67    161426 Nov 29 05:00 returnsModel_2.1-8.tar.gz\r\n",
      "-rwxrwxrwx 1 user00 user00       377 Nov 27 05:47 runModel.R\r\n",
      "-rw-rw-rw- 1 user00 user00      1767 Nov 29 05:00 scoreDrill.R\r\n"
     ]
    }
   ],
   "source": [
    "! ls -l flaskwebapp/code"
   ]
  },
  {
   "cell_type": "code",
   "execution_count": 10,
   "metadata": {
    "scrolled": false
   },
   "outputs": [
    {
     "name": "stdout",
     "output_type": "stream",
     "text": [
      "Sending build context to Docker daemon 262.1 MB\n",
      "Step 1/11 : FROM thbeh/r-base:3.4.2\n",
      " ---> e86845d98544\n",
      "Step 2/11 : RUN apt-get update && apt-get install -y supervisor libxml2-dev\n",
      " ---> Running in 9749bb4ac61b\n",
      "Get:1 http://security.ubuntu.com/ubuntu xenial-security InRelease [102 kB]\n",
      "Get:2 http://archive.ubuntu.com/ubuntu xenial InRelease [247 kB]\n",
      "Ign:3 http://package.mapr.com/releases/v5.2.2/ubuntu binary InRelease\n",
      "Get:4 http://ppa.launchpad.net/marutter/c2d4u/ubuntu xenial InRelease [17.5 kB]\n",
      "Ign:5 http://package.mapr.com/releases/MEP/MEP-3.0.1/ubuntu binary InRelease\n",
      "Get:6 http://package.mapr.com/releases/v5.2.2/ubuntu binary Release [2,728 B]\n",
      "Get:7 http://package.mapr.com/releases/MEP/MEP-3.0.1/ubuntu binary Release [2,728 B]\n",
      "Get:8 http://package.mapr.com/releases/v5.2.2/ubuntu binary Release.gpg [475 B]\n",
      "Get:9 http://package.mapr.com/releases/MEP/MEP-3.0.1/ubuntu binary Release.gpg [475 B]\n",
      "Get:10 http://package.mapr.com/releases/v5.2.2/ubuntu binary/trusty amd64 Packages [3,249 B]\n",
      "Get:11 http://package.mapr.com/releases/MEP/MEP-3.0.1/ubuntu binary/trusty amd64 Packages [10.8 kB]\n",
      "Get:12 http://security.ubuntu.com/ubuntu xenial-security/universe Sources [53.1 kB]\n",
      "Get:13 http://ppa.launchpad.net/marutter/rrutter/ubuntu xenial InRelease [17.5 kB]\n",
      "Get:14 http://security.ubuntu.com/ubuntu xenial-security/main amd64 Packages [504 kB]\n",
      "Get:15 http://archive.ubuntu.com/ubuntu xenial-updates InRelease [102 kB]\n",
      "Get:16 http://security.ubuntu.com/ubuntu xenial-security/restricted amd64 Packages [12.9 kB]\n",
      "Get:17 http://security.ubuntu.com/ubuntu xenial-security/universe amd64 Packages [229 kB]\n",
      "Get:18 http://security.ubuntu.com/ubuntu xenial-security/multiverse amd64 Packages [3,479 B]\n",
      "Get:19 http://archive.ubuntu.com/ubuntu xenial-backports InRelease [102 kB]\n",
      "Get:20 http://ppa.launchpad.net/marutter/c2d4u/ubuntu xenial/main Sources [1,277 kB]\n",
      "Get:21 http://archive.ubuntu.com/ubuntu xenial/universe Sources [9,802 kB]\n",
      "Get:22 http://archive.ubuntu.com/ubuntu xenial/main amd64 Packages [1,558 kB]\n",
      "Get:23 http://archive.ubuntu.com/ubuntu xenial/restricted amd64 Packages [14.1 kB]\n",
      "Get:24 http://archive.ubuntu.com/ubuntu xenial/universe amd64 Packages [9,827 kB]\n",
      "Get:25 http://ppa.launchpad.net/marutter/c2d4u/ubuntu xenial/main amd64 Packages [666 kB]\n",
      "Get:26 http://archive.ubuntu.com/ubuntu xenial/multiverse amd64 Packages [176 kB]\n",
      "Get:27 http://archive.ubuntu.com/ubuntu xenial-updates/universe Sources [231 kB]\n",
      "Get:28 http://archive.ubuntu.com/ubuntu xenial-updates/main amd64 Packages [864 kB]\n",
      "Get:29 http://archive.ubuntu.com/ubuntu xenial-updates/restricted amd64 Packages [13.7 kB]\n",
      "Get:30 http://archive.ubuntu.com/ubuntu xenial-updates/universe amd64 Packages [717 kB]\n",
      "Get:31 http://archive.ubuntu.com/ubuntu xenial-updates/multiverse amd64 Packages [18.5 kB]\n",
      "Get:32 http://archive.ubuntu.com/ubuntu xenial-backports/main amd64 Packages [5,174 B]\n",
      "Get:33 http://archive.ubuntu.com/ubuntu xenial-backports/universe amd64 Packages [7,150 B]\n",
      "Get:34 http://ppa.launchpad.net/marutter/rrutter/ubuntu xenial/main Sources [10.8 kB]\n",
      "Get:35 http://ppa.launchpad.net/marutter/rrutter/ubuntu xenial/main amd64 Packages [8,639 B]\n",
      "Fetched 26.6 MB in 10s (2,540 kB/s)\n",
      "Reading package lists...\n",
      "Reading package lists...\n",
      "Building dependency tree...\n",
      "Reading state information...\n",
      "The following additional packages will be installed:\n",
      "  python-meld3\n",
      "Suggested packages:\n",
      "  supervisor-doc\n",
      "The following NEW packages will be installed:\n",
      "  libxml2-dev python-meld3 supervisor\n",
      "0 upgraded, 3 newly installed, 0 to remove and 9 not upgraded.\n",
      "Need to get 1,028 kB of archives.\n",
      "After this operation, 5,068 kB of additional disk space will be used.\n",
      "Get:1 http://archive.ubuntu.com/ubuntu xenial-updates/main amd64 libxml2-dev amd64 2.9.3+dfsg1-1ubuntu0.3 [744 kB]\n",
      "Get:2 http://archive.ubuntu.com/ubuntu xenial/universe amd64 python-meld3 all 1.0.2-2 [30.9 kB]\n",
      "Get:3 http://archive.ubuntu.com/ubuntu xenial-updates/universe amd64 supervisor all 3.2.0-2ubuntu0.1 [253 kB]\n",
      "\u001b[91mdebconf: unable to initialize frontend: Dialog\n",
      "debconf: (TERM is not set, so the dialog frontend is not usable.)\n",
      "debconf: falling back to frontend: Readline\n",
      "\u001b[0m\u001b[91mdebconf: unable to initialize frontend: Readline\n",
      "debconf: (This frontend requires a controlling tty.)\n",
      "debconf: falling back to frontend: Teletype\n",
      "\u001b[0m\u001b[91mdpkg-preconfigure: unable to re-open stdin: \n",
      "\u001b[0mFetched 1,028 kB in 3s (289 kB/s)\n",
      "Selecting previously unselected package libxml2-dev:amd64.\n",
      "(Reading database ... 27237 files and directories currently installed.)\n",
      "Preparing to unpack .../libxml2-dev_2.9.3+dfsg1-1ubuntu0.3_amd64.deb ...\n",
      "Unpacking libxml2-dev:amd64 (2.9.3+dfsg1-1ubuntu0.3) ...\n",
      "Selecting previously unselected package python-meld3.\n",
      "Preparing to unpack .../python-meld3_1.0.2-2_all.deb ...\n",
      "Unpacking python-meld3 (1.0.2-2) ...\n",
      "Selecting previously unselected package supervisor.\n",
      "Preparing to unpack .../supervisor_3.2.0-2ubuntu0.1_all.deb ...\n",
      "Unpacking supervisor (3.2.0-2ubuntu0.1) ...\n",
      "Processing triggers for man-db (2.7.5-1) ...\n",
      "Processing triggers for systemd (229-4ubuntu21) ...\n",
      "Setting up libxml2-dev:amd64 (2.9.3+dfsg1-1ubuntu0.3) ...\n",
      "Setting up python-meld3 (1.0.2-2) ...\n",
      "Setting up supervisor (3.2.0-2ubuntu0.1) ...\n",
      "insserv: warning: script 'mapr-fuse' missing LSB tags and overrides\n",
      "invoke-rc.d: could not determine current runlevel\n",
      "invoke-rc.d: policy-rc.d denied execution of start.\n",
      "Processing triggers for systemd (229-4ubuntu21) ...\n",
      " ---> a6c50460e1e4\n",
      "Removing intermediate container 9749bb4ac61b\n",
      "Step 3/11 : COPY packages.R /tmp/\n",
      " ---> 7af31fb0b904\n",
      "Removing intermediate container 740152d1df89\n",
      "Step 4/11 : COPY scoreDrill.R /tmp/\n",
      " ---> 55a45a0cde6b\n",
      "Removing intermediate container 4c7638bbb64b\n",
      "Step 5/11 : RUN mkdir /code\n",
      " ---> Running in 5db7ad8edb73\n",
      " ---> 5628b9512ec4\n",
      "Removing intermediate container 5db7ad8edb73\n",
      "Step 6/11 : ADD code /code\n",
      " ---> 74219bd7511c\n",
      "Removing intermediate container a1fe36a560ba\n",
      "Step 7/11 : ADD etc /etc\n",
      " ---> 107753b9ee34\n",
      "Removing intermediate container 6b59aaf0d515\n",
      "Step 8/11 : RUN Rscript /tmp/packages.R\n",
      " ---> Running in 48126f5145e9\n",
      " ---> c46a76accfe7\n",
      "Removing intermediate container 48126f5145e9\n",
      "Step 9/11 : RUN R CMD INSTALL /code/returnsModel_2.1-8.tar.gz\n",
      " ---> Running in 7701c934cd3b\n",
      "\u001b[91m* installing to library ‘/usr/local/lib/R/site-library’\n",
      "\u001b[0m\u001b[91m* installing *source* package ‘returnsModel’ ...\n",
      "\u001b[0m\u001b[91m** R\n",
      "\u001b[0m\u001b[91m** data\n",
      "\u001b[0m\u001b[91m** inst\n",
      "\u001b[0m\u001b[91m** preparing package for lazy loading\n",
      "\u001b[0m\u001b[91m** help\n",
      "\u001b[0m\u001b[91m*** installing help indices\n",
      "\u001b[0m\u001b[91m** building package indices\n",
      "\u001b[0m\u001b[91m** testing if installed package can be loaded\n",
      "\u001b[0m\u001b[91m* DONE (returnsModel)\n",
      "\u001b[0m ---> 983c4688b887\n",
      "Removing intermediate container 7701c934cd3b\n",
      "Step 10/11 : EXPOSE 8000\n",
      " ---> Running in ff413bea4a7a\n",
      " ---> 655b60abed1b\n",
      "Removing intermediate container ff413bea4a7a\n",
      "Step 11/11 : CMD supervisord -c /etc/supervisord.conf\n",
      " ---> Running in ef0e3f3c6b82\n",
      " ---> 2250267c8e5c\n",
      "Removing intermediate container ef0e3f3c6b82\n",
      "Successfully built 2250267c8e5c\n"
     ]
    }
   ],
   "source": [
    "!docker build -t $image_name -f $docker_file_location $application_path --no-cache"
   ]
  },
  {
   "cell_type": "code",
   "execution_count": null,
   "metadata": {},
   "outputs": [
    {
     "name": "stdout",
     "output_type": "stream",
     "text": [
      "domodelling\r\n"
     ]
    }
   ],
   "source": [
    "!docker rm domodelling"
   ]
  },
  {
   "cell_type": "code",
   "execution_count": null,
   "metadata": {},
   "outputs": [
    {
     "name": "stdout",
     "output_type": "stream",
     "text": [
      "\u001b[!p\u001b[?3;4l\u001b[4l\u001b>\n",
      "Testing for cluster user account... \n",
      "\n",
      "\u001b(B\u001b[mEnter MapR cluster user name: mapr\n",
      " \n",
      "User 'mapr' does not exist. Creating new cluster user account... \n",
      "\n",
      "Enter 'mapr' uid: 5000\n",
      " Enter 'mapr' group name: mapr\n",
      " Enter 'mapr' gid: 5000\n",
      " Enter 'mapr' password: mapr\n",
      " ...Success \n",
      "\n",
      "Configuring MapR client ( -c -C mapr-1,mapr-2,mapr-3 -N maprlab)... \n",
      "\n",
      "create /opt/mapr/conf/conf.old\n",
      "Configuring Hadoop-2.7.0 at /opt/mapr/hadoop/hadoop-2.7.0\n",
      "Done configuring Hadoop\n",
      "CLDB node list: mapr-1:7222,mapr-2:7222,mapr-3:7222\n",
      "Zookeeper node list: \n",
      "\n",
      "...Success \n",
      "\n",
      "2017-11-29 05:02:09,700 INFO supervisord started with pid 944\n",
      "2017-11-29 05:02:10,703 INFO spawned: 'program_exit' with pid 947\n",
      "2017-11-29 05:02:10,705 INFO spawned: 'plumber' with pid 948\n",
      "2017-11-29 05:02:12,121 INFO success: program_exit entered RUNNING state, process has stayed up for > than 1 seconds (startsecs)\n",
      "2017-11-29 05:02:16,126 INFO success: plumber entered RUNNING state, process has stayed up for > than 5 seconds (startsecs)\n"
     ]
    }
   ],
   "source": [
    "!docker run -it -e MAPR_CLUSTER=maprlab -e MAPR_CLDB_HOSTS=mapr-1,mapr-2,mapr-3 -e MAPR_CONTAINER_USER=mapr -e MAPR_CONTAINER_UID=5000 -e MAPR_CONTAINER_GID=5000 -e MAPR_CONTAINER_GROUP=mapr -e MAPR_MOUNT_POINT=/mapr --device /dev/fuse --security-opt apparmor:unconfined --name doscoring -p 6002:8000 $image_name "
   ]
  },
  {
   "cell_type": "code",
   "execution_count": null,
   "metadata": {},
   "outputs": [],
   "source": []
  }
 ],
 "metadata": {
  "kernelspec": {
   "display_name": "Python 3",
   "language": "python",
   "name": "python3"
  },
  "language_info": {
   "codemirror_mode": {
    "name": "ipython",
    "version": 3
   },
   "file_extension": ".py",
   "mimetype": "text/x-python",
   "name": "python",
   "nbconvert_exporter": "python",
   "pygments_lexer": "ipython3",
   "version": "3.5.2"
  }
 },
 "nbformat": 4,
 "nbformat_minor": 2
}

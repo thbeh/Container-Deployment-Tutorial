{
 "cells": [
  {
   "cell_type": "code",
   "execution_count": null,
   "metadata": {},
   "outputs": [],
   "source": [
    "!docker version"
   ]
  },
  {
   "cell_type": "code",
   "execution_count": 3,
   "metadata": {
    "scrolled": true
   },
   "outputs": [
    {
     "name": "stdout",
     "output_type": "stream",
     "text": [
      "mkdir: cannot create directory ‘flaskwebapp’: File exists\n",
      "mkdir: cannot create directory ‘flaskwebapp/code’: File exists\n",
      "mkdir: cannot create directory ‘flaskwebapp/etc’: File exists\n"
     ]
    }
   ],
   "source": [
    "!mkdir flaskwebapp\n",
    "!mkdir flaskwebapp/code\n",
    "!mkdir flaskwebapp/etc"
   ]
  },
  {
   "cell_type": "code",
   "execution_count": 255,
   "metadata": {},
   "outputs": [],
   "source": [
    "import os\n",
    "from os import path\n",
    "import json \n",
    "\n",
    "image_name = \"thbeh/test\"\n",
    "application_path = 'flaskwebapp'\n",
    "docker_file_location = path.join(application_path, 'dockerfile')"
   ]
  },
  {
   "cell_type": "code",
   "execution_count": 242,
   "metadata": {},
   "outputs": [
    {
     "name": "stdout",
     "output_type": "stream",
     "text": [
      "total 314\r\n",
      "-rwxrwxrwx 1 user00 user00    885 Nov 26 20:36 kill_supervisor.py\r\n",
      "-rw-rw-rw- 1 user00 user00 159017 Nov 27 03:50 returnsModel_2.1-6.tar.gz\r\n",
      "-rw-rw-rw- 1 user00 user00 160068 Nov 28 02:35 returnsModel_2.1-7.tar.gz\r\n",
      "-rwxrwxrwx 1 user00 user00    377 Nov 27 05:47 runModel.R\r\n",
      "-rw-rw-rw- 1 user00 user00    308 Nov 28 02:11 scoreDrill.R\r\n"
     ]
    }
   ],
   "source": [
    "!ls -l flaskwebapp/code"
   ]
  },
  {
   "cell_type": "code",
   "execution_count": 241,
   "metadata": {},
   "outputs": [],
   "source": [
    "!cp /poc/AZ/Kate/returnsModel_2.1-7.tar.gz flaskwebapp/code/"
   ]
  },
  {
   "cell_type": "code",
   "execution_count": 233,
   "metadata": {},
   "outputs": [
    {
     "name": "stdout",
     "output_type": "stream",
     "text": [
      "Overwriting flaskwebapp/packages.R\n"
     ]
    }
   ],
   "source": [
    "%%writefile flaskwebapp/packages.R\n",
    "install.packages(c(\"psych\"\n",
    "                  ), \n",
    "                   repos = \"http://cran.us.r-project.org\", dependencies = TRUE)\n",
    "\n",
    "## install.packages(\"/poc/AZ/Kate/returnsModel_2.1-6.tar.gz\", repos = NULL, type = \"source\")\n"
   ]
  },
  {
   "cell_type": "code",
   "execution_count": 272,
   "metadata": {},
   "outputs": [
    {
     "name": "stdout",
     "output_type": "stream",
     "text": [
      "Overwriting flaskwebapp/runModel.R\n"
     ]
    }
   ],
   "source": [
    "%%writefile flaskwebapp/runModel.R\n",
    "\n",
    "suppressMessages(library(psych))\n",
    "suppressMessages(library(jsonlite))\n",
    "suppressMessages(library(sergeant))\n",
    "suppressMessages(library(returnsModel))\n",
    "\n",
    "options(warn = -1)\n",
    "\n",
    "#* @get /testScore\n",
    "runScore <- function() {\n",
    "    RunModellingAndScoringTest(model=\"OR\", returnName=\"IR6\", projectStage=\"TEST\", nrows=1000)\n",
    "}\n",
    "\n",
    "#* @post /score\n",
    "runModel <- function(nr) {\n",
    "    RunModellingAndScoringTest(model=\"OR\", returnName=\"IR6\", projectStage=\"TEST\", nrows=nr)\n",
    "}\n",
    "\n",
    "#* @post /sum\n",
    "addTwo <- function(a ,b) {\n",
    "    as.numeric(a) + as.numeric(b)\n",
    "}\n",
    "\n"
   ]
  },
  {
   "cell_type": "code",
   "execution_count": 258,
   "metadata": {},
   "outputs": [
    {
     "name": "stdout",
     "output_type": "stream",
     "text": [
      "Writing flaskwebapp/supervisord.conf\n"
     ]
    }
   ],
   "source": [
    "%%writefile flaskwebapp/supervisord.conf\n",
    "[supervisord]\n",
    "logfile=/tmp/supervisord.log ; (main log file;default $CWD/supervisord.log)\n",
    "logfile_maxbytes=50MB        ; (max main logfile bytes b4 rotation;default 50MB)\n",
    "logfile_backups=10           ; (num of main logfile rotation backups;default 10)\n",
    "loglevel=info                ; (log level;default info; others: debug,warn,trace)\n",
    "pidfile=/tmp/supervisord.pid ; (supervisord pidfile;default supervisord.pid)\n",
    "nodaemon=true               ; (start in foreground if true;default false)\n",
    "minfds=1024                  ; (min. avail startup file descriptors;default 1024)\n",
    "minprocs=200                 ; (min. avail process descriptors;default 200)\n",
    "\n",
    "[program:plumber]\n",
    "command=/usr/bin/Rscript -e \"pr <- plumber::plumb('/tmp/runModel.R'); pr$run(host='0.0.0.0', port=8080)\"\n",
    "startretries=2\n",
    "startsecs=5\n",
    "priority=3\n",
    "\n",
    "[eventlistener:program_exit]\n",
    "command=python kill_supervisor.py\n",
    "directory=/code\n",
    "events=PROCESS_STATE_FATAL\n",
    "priority=2\n",
    "\n",
    "\n",
    "\n"
   ]
  },
  {
   "cell_type": "code",
   "execution_count": 259,
   "metadata": {},
   "outputs": [
    {
     "name": "stdout",
     "output_type": "stream",
     "text": [
      "Overwriting flaskwebapp/dockerfile\n"
     ]
    }
   ],
   "source": [
    "%%writefile flaskwebapp/dockerfile\n",
    "FROM thbeh/r-base:3.4.2\n",
    "\n",
    "RUN apt-get update && apt-get install -y supervisor libxml2-dev\n",
    "\n",
    "COPY packages.R /tmp/\n",
    "COPY runModel.R /tmp/\n",
    "COPY scoreDrill.R /tmp/\n",
    "COPY supervisord.conf /etc/\n",
    "\n",
    "RUN mkdir /code\n",
    "ADD code /code\n",
    "\n",
    "RUN Rscript /tmp/packages.R\n",
    "RUN R CMD INSTALL /code/returnsModel_2.1-7.tar.gz\n",
    "\n",
    "EXPOSE 8080\n",
    "CMD [\"supervisord\",\"-c\", \"/etc/supervisord.conf\"]\n",
    "\n"
   ]
  },
  {
   "cell_type": "code",
   "execution_count": 237,
   "metadata": {
    "scrolled": true
   },
   "outputs": [
    {
     "name": "stdout",
     "output_type": "stream",
     "text": [
      "total 314\r\n",
      "-rwxrwxrwx 1 user00 user00    885 Nov 26 20:36 kill_supervisor.py\r\n",
      "-rw-r--r-- 1 user00 user00 159017 Nov 27 03:50 returnsModel_2.1-6.tar.gz\r\n",
      "-rw-r--r-- 1 user00 user00 160068 Nov 28 00:23 returnsModel_2.1-7.tar.gz\r\n",
      "-rwxrwxrwx 1 user00 user00    377 Nov 27 05:47 runModel.R\r\n",
      "-rw-r--r-- 1 user00 user00    381 Nov 27 07:02 scoreDrill.R\r\n"
     ]
    }
   ],
   "source": [
    "! ls -l flaskwebapp/code"
   ]
  },
  {
   "cell_type": "code",
   "execution_count": 275,
   "metadata": {
    "scrolled": true
   },
   "outputs": [
    {
     "name": "stdout",
     "output_type": "stream",
     "text": [
      "Sending build context to Docker daemon 262.1 MB\n",
      "Step 1/12 : FROM thbeh/r-base:3.4.2\n",
      " ---> e86845d98544\n",
      "Step 2/12 : RUN apt-get update && apt-get install -y supervisor libxml2-dev\n",
      " ---> Running in 73d1bdd64af6\n",
      "Get:1 http://security.ubuntu.com/ubuntu xenial-security InRelease [102 kB]\n",
      "Ign:2 http://package.mapr.com/releases/v5.2.2/ubuntu binary InRelease\n",
      "Get:3 http://archive.ubuntu.com/ubuntu xenial InRelease [247 kB]\n",
      "Ign:4 http://package.mapr.com/releases/MEP/MEP-3.0.1/ubuntu binary InRelease\n",
      "Get:5 http://package.mapr.com/releases/v5.2.2/ubuntu binary Release [2,728 B]\n",
      "Get:6 http://package.mapr.com/releases/MEP/MEP-3.0.1/ubuntu binary Release [2,728 B]\n",
      "Get:7 http://package.mapr.com/releases/v5.2.2/ubuntu binary Release.gpg [475 B]\n",
      "Get:8 http://package.mapr.com/releases/MEP/MEP-3.0.1/ubuntu binary Release.gpg [475 B]\n",
      "Get:9 http://package.mapr.com/releases/v5.2.2/ubuntu binary/trusty amd64 Packages [3,249 B]\n",
      "Get:10 http://security.ubuntu.com/ubuntu xenial-security/universe Sources [53.1 kB]\n",
      "Get:11 http://security.ubuntu.com/ubuntu xenial-security/main amd64 Packages [504 kB]\n",
      "Get:12 http://ppa.launchpad.net/marutter/c2d4u/ubuntu xenial InRelease [17.5 kB]\n",
      "Get:13 http://package.mapr.com/releases/MEP/MEP-3.0.1/ubuntu binary/trusty amd64 Packages [10.8 kB]\n",
      "Get:14 http://archive.ubuntu.com/ubuntu xenial-updates InRelease [102 kB]\n",
      "Get:15 http://security.ubuntu.com/ubuntu xenial-security/restricted amd64 Packages [12.9 kB]\n",
      "Get:16 http://security.ubuntu.com/ubuntu xenial-security/universe amd64 Packages [229 kB]\n",
      "Get:17 http://security.ubuntu.com/ubuntu xenial-security/multiverse amd64 Packages [3,479 B]\n",
      "Get:18 http://archive.ubuntu.com/ubuntu xenial-backports InRelease [102 kB]\n",
      "Get:19 http://archive.ubuntu.com/ubuntu xenial/universe Sources [9,802 kB]\n",
      "Get:20 http://ppa.launchpad.net/marutter/rrutter/ubuntu xenial InRelease [17.5 kB]\n",
      "Get:21 http://ppa.launchpad.net/marutter/c2d4u/ubuntu xenial/main Sources [1,277 kB]\n",
      "Get:22 http://archive.ubuntu.com/ubuntu xenial/main amd64 Packages [1,558 kB]\n",
      "Get:23 http://archive.ubuntu.com/ubuntu xenial/restricted amd64 Packages [14.1 kB]\n",
      "Get:24 http://archive.ubuntu.com/ubuntu xenial/universe amd64 Packages [9,827 kB]\n",
      "Get:25 http://archive.ubuntu.com/ubuntu xenial/multiverse amd64 Packages [176 kB]\n",
      "Get:26 http://archive.ubuntu.com/ubuntu xenial-updates/universe Sources [231 kB]\n",
      "Get:27 http://archive.ubuntu.com/ubuntu xenial-updates/main amd64 Packages [864 kB]\n",
      "Get:28 http://archive.ubuntu.com/ubuntu xenial-updates/restricted amd64 Packages [13.7 kB]\n",
      "Get:29 http://archive.ubuntu.com/ubuntu xenial-updates/universe amd64 Packages [717 kB]\n",
      "Get:30 http://archive.ubuntu.com/ubuntu xenial-updates/multiverse amd64 Packages [18.5 kB]\n",
      "Get:31 http://archive.ubuntu.com/ubuntu xenial-backports/main amd64 Packages [5,174 B]\n",
      "Get:32 http://archive.ubuntu.com/ubuntu xenial-backports/universe amd64 Packages [7,150 B]\n",
      "Get:33 http://ppa.launchpad.net/marutter/c2d4u/ubuntu xenial/main amd64 Packages [666 kB]\n",
      "Get:34 http://ppa.launchpad.net/marutter/rrutter/ubuntu xenial/main Sources [10.8 kB]\n",
      "Get:35 http://ppa.launchpad.net/marutter/rrutter/ubuntu xenial/main amd64 Packages [8,639 B]\n",
      "Fetched 26.6 MB in 13s (2,033 kB/s)\n",
      "Reading package lists...\n",
      "Reading package lists...\n",
      "Building dependency tree...\n",
      "Reading state information...\n",
      "The following additional packages will be installed:\n",
      "  python-meld3\n",
      "Suggested packages:\n",
      "  supervisor-doc\n",
      "The following NEW packages will be installed:\n",
      "  libxml2-dev python-meld3 supervisor\n",
      "0 upgraded, 3 newly installed, 0 to remove and 9 not upgraded.\n",
      "Need to get 1,028 kB of archives.\n",
      "After this operation, 5,068 kB of additional disk space will be used.\n",
      "Get:1 http://archive.ubuntu.com/ubuntu xenial-updates/main amd64 libxml2-dev amd64 2.9.3+dfsg1-1ubuntu0.3 [744 kB]\n",
      "Get:2 http://archive.ubuntu.com/ubuntu xenial/universe amd64 python-meld3 all 1.0.2-2 [30.9 kB]\n",
      "Get:3 http://archive.ubuntu.com/ubuntu xenial-updates/universe amd64 supervisor all 3.2.0-2ubuntu0.1 [253 kB]\n",
      "\u001b[91mdebconf: unable to initialize frontend: Dialog\n",
      "debconf: (TERM is not set, so the dialog frontend is not usable.)\n",
      "debconf: falling back to frontend: Readline\n",
      "\u001b[0m\u001b[91mdebconf: unable to initialize frontend: Readline\n",
      "debconf: (This frontend requires a controlling tty.)\n",
      "debconf: falling back to frontend: Teletype\n",
      "\u001b[0m\u001b[91mdpkg-preconfigure: unable to re-open stdin: \n",
      "\u001b[0mFetched 1,028 kB in 1s (561 kB/s)\n",
      "Selecting previously unselected package libxml2-dev:amd64.\n",
      "(Reading database ... 27237 files and directories currently installed.)\n",
      "Preparing to unpack .../libxml2-dev_2.9.3+dfsg1-1ubuntu0.3_amd64.deb ...\n",
      "Unpacking libxml2-dev:amd64 (2.9.3+dfsg1-1ubuntu0.3) ...\n",
      "Selecting previously unselected package python-meld3.\n",
      "Preparing to unpack .../python-meld3_1.0.2-2_all.deb ...\n",
      "Unpacking python-meld3 (1.0.2-2) ...\n",
      "Selecting previously unselected package supervisor.\n",
      "Preparing to unpack .../supervisor_3.2.0-2ubuntu0.1_all.deb ...\n",
      "Unpacking supervisor (3.2.0-2ubuntu0.1) ...\n",
      "Processing triggers for man-db (2.7.5-1) ...\n",
      "Processing triggers for systemd (229-4ubuntu21) ...\n",
      "Setting up libxml2-dev:amd64 (2.9.3+dfsg1-1ubuntu0.3) ...\n",
      "Setting up python-meld3 (1.0.2-2) ...\n",
      "Setting up supervisor (3.2.0-2ubuntu0.1) ...\n",
      "insserv: warning: script 'mapr-fuse' missing LSB tags and overrides\n",
      "invoke-rc.d: could not determine current runlevel\n",
      "invoke-rc.d: policy-rc.d denied execution of start.\n",
      "Processing triggers for systemd (229-4ubuntu21) ...\n",
      " ---> e2a47247449e\n",
      "Removing intermediate container 73d1bdd64af6\n",
      "Step 3/12 : COPY packages.R /tmp/\n",
      " ---> ed9808e15025\n",
      "Removing intermediate container 5751708e9878\n",
      "Step 4/12 : COPY runModel.R /tmp/\n",
      " ---> f416e932b993\n",
      "Removing intermediate container 8de1b273e433\n",
      "Step 5/12 : COPY scoreDrill.R /tmp/\n",
      " ---> 846c69c91adc\n",
      "Removing intermediate container fc0bbf9efc18\n",
      "Step 6/12 : COPY supervisord.conf /etc/\n",
      " ---> eef97ace236a\n",
      "Removing intermediate container b8d0b0ffc929\n",
      "Step 7/12 : RUN mkdir /code\n",
      " ---> Running in 2546ad095146\n",
      " ---> de6763e555f2\n",
      "Removing intermediate container 2546ad095146\n",
      "Step 8/12 : ADD code /code\n",
      " ---> d35b04e9bf84\n",
      "Removing intermediate container 48500db44307\n",
      "Step 9/12 : RUN Rscript /tmp/packages.R\n",
      " ---> Running in 335aa878d7bd\n",
      " ---> eefe40e99f47\n",
      "Removing intermediate container 335aa878d7bd\n",
      "Step 10/12 : RUN R CMD INSTALL /code/returnsModel_2.1-7.tar.gz\n",
      " ---> Running in c8ea17acc6dd\n",
      "\u001b[91m* installing to library ‘/usr/local/lib/R/site-library’\n",
      "\u001b[0m\u001b[91m* installing *source* package ‘returnsModel’ ...\n",
      "\u001b[0m\u001b[91m** R\n",
      "\u001b[0m\u001b[91m** data\n",
      "\u001b[0m\u001b[91m** inst\n",
      "\u001b[0m\u001b[91m** preparing package for lazy loading\n",
      "\u001b[0m\u001b[91m** help\n",
      "\u001b[0m\u001b[91m*** installing help indices\n",
      "\u001b[0m\u001b[91m** building package indices\n",
      "\u001b[0m\u001b[91m** testing if installed package can be loaded\n",
      "\u001b[0m\u001b[91m* DONE (returnsModel)\n",
      "\u001b[0m ---> 686b7261afa9\n",
      "Removing intermediate container c8ea17acc6dd\n",
      "Step 11/12 : EXPOSE 8080\n",
      " ---> Running in 33157a603dc7\n",
      " ---> 5e7728b52a7b\n",
      "Removing intermediate container 33157a603dc7\n",
      "Step 12/12 : CMD supervisord -c /etc/supervisord.conf\n",
      " ---> Running in 8011fa7f3f31\n",
      " ---> da06b8202f05\n",
      "Removing intermediate container 8011fa7f3f31\n",
      "Successfully built da06b8202f05\n"
     ]
    }
   ],
   "source": [
    "!docker build -t $image_name -f $docker_file_location $application_path --no-cache"
   ]
  },
  {
   "cell_type": "code",
   "execution_count": null,
   "metadata": {
    "scrolled": true
   },
   "outputs": [
    {
     "name": "stdout",
     "output_type": "stream",
     "text": [
      "\u001b[!p\u001b[?3;4l\u001b[4l\u001b>\n",
      "Testing for cluster user account... \n",
      "\n",
      "\u001b(B\u001b[mEnter MapR cluster user name: mapr\n",
      " \n",
      "User 'mapr' does not exist. Creating new cluster user account... \n",
      "\n",
      "Enter 'mapr' uid: 5000\n",
      " Enter 'mapr' group name: mapr\n",
      " Enter 'mapr' gid: 5000\n",
      " Enter 'mapr' password: mapr\n",
      " ...Success \n",
      "\n",
      "Configuring MapR client ( -c -C mapr-1,mapr-2,mapr-3 -N maprlab)... \n",
      "\n",
      "create /opt/mapr/conf/conf.old\n",
      "Configuring Hadoop-2.7.0 at /opt/mapr/hadoop/hadoop-2.7.0\n",
      "Done configuring Hadoop\n",
      "CLDB node list: mapr-1:7222,mapr-2:7222,mapr-3:7222\n",
      "Zookeeper node list: \n",
      "\n",
      "...Success \n",
      "\n",
      "2017-11-29 02:14:45,944 INFO supervisord started with pid 946\n",
      "2017-11-29 02:14:46,947 INFO spawned: 'program_exit' with pid 949\n",
      "2017-11-29 02:14:46,948 INFO spawned: 'plumber' with pid 950\n",
      "2017-11-29 02:14:48,942 INFO success: program_exit entered RUNNING state, process has stayed up for > than 1 seconds (startsecs)\n",
      "2017-11-29 02:14:52,947 INFO success: plumber entered RUNNING state, process has stayed up for > than 5 seconds (startsecs)\n"
     ]
    }
   ],
   "source": [
    "!docker run -it -e MAPR_CLUSTER=maprlab -e MAPR_CLDB_HOSTS=mapr-1,mapr-2,mapr-3 -e MAPR_CONTAINER_USER=mapr -e MAPR_CONTAINER_UID=5000 -e MAPR_CONTAINER_GID=5000 -e MAPR_CONTAINER_GROUP=mapr -e MAPR_MOUNT_POINT=/mapr --device /dev/fuse --security-opt apparmor:unconfined --name score -p 6060:8080 $image_name "
   ]
  },
  {
   "cell_type": "code",
   "execution_count": 274,
   "metadata": {},
   "outputs": [
    {
     "name": "stdout",
     "output_type": "stream",
     "text": [
      "Error response from daemon: No such container: score\r\n"
     ]
    }
   ],
   "source": [
    "!docker rm score"
   ]
  },
  {
   "cell_type": "code",
   "execution_count": 178,
   "metadata": {},
   "outputs": [
    {
     "name": "stdout",
     "output_type": "stream",
     "text": [
      "Deleted: sha256:0dbdaaafb97cfd2347d7ea792bc75ec14efbfa6994baa71d671b726ec4f3f034\r\n",
      "Deleted: sha256:aa0ebefcb4ba7d8c8efea6e9a5da852cc05f927b606649c6e64aa797c3849eb1\r\n",
      "Deleted: sha256:ef510ba0f80c2fcf7db635528b2edacf6646d5540fd6d62d07968ff90328f06e\r\n",
      "Deleted: sha256:d7050fd3e87eade8ad3051b5a910145fa97baabe574c1486437d471b444cfc54\r\n",
      "Deleted: sha256:35c44dc6eacd611c412786c9b319c82dc779fd8616e769fd2c759ac09213ae6c\r\n",
      "Deleted: sha256:4499cc5cea262e03b6ffa8ccb948c4398d258c8176eec84734a88c4d69afbafb\r\n",
      "Deleted: sha256:8d7db60bf1198940faae1e8c193518cc7bf971a63b70f63296dcd87514374d01\r\n",
      "Deleted: sha256:8ec04630f111f16df53e32a0d2e21d19972c51e233df72d845720f0cf2f637d5\r\n",
      "Deleted: sha256:abf39fd24dc3324cf0dd3a0363bec75f77d787c4d9f405c0e8e766e487543f32\r\n",
      "Deleted: sha256:c644ae04a78eec19b227b03c24959fb9ca18af07c8a4a0f3d75f7ee310671882\r\n",
      "Deleted: sha256:b34207502e7f4af737b373d06e61d8c6f70a3788142f308a768130ba7436dbd8\r\n",
      "Deleted: sha256:a41925a6e229204b61c0c42d76122c18aed9f7402f7690f32322f89574d732a2\r\n"
     ]
    }
   ],
   "source": [
    "!docker rmi 0dbdaaafb97c\n"
   ]
  },
  {
   "cell_type": "code",
   "execution_count": 221,
   "metadata": {},
   "outputs": [
    {
     "name": "stdout",
     "output_type": "stream",
     "text": [
      "score\r\n"
     ]
    }
   ],
   "source": [
    "!docker rm score\n"
   ]
  },
  {
   "cell_type": "code",
   "execution_count": 215,
   "metadata": {},
   "outputs": [
    {
     "name": "stdout",
     "output_type": "stream",
     "text": [
      "Untagged: thbeh/test:latest\r\n",
      "Deleted: sha256:523fa3410c68f037c5a3140cf12f47244aeffa3ed6139c508eef04193c6de130\r\n",
      "Deleted: sha256:fed7840dfe6bca268b4f65f8f200f272c3b061df8efcdf415b1ca364302c3550\r\n",
      "Deleted: sha256:d182afd54e90ca32fdfd5085f481c5fd3dfe79fa20d70fbf28a3a5f9950114b8\r\n",
      "Deleted: sha256:07e0e896719c1a9e67eb16341d8ffe1fd538c9cd1ac7da18c92ef0846b1103d3\r\n",
      "Deleted: sha256:cbdd436ff8a553e6b6cd713102aa1f2106255770c6ea69d7945d8b9547c07fe9\r\n",
      "Deleted: sha256:668ab1eeea96c2f9a74a65fe997d3a9c864da3eb2d46d0b696b2293813d16838\r\n",
      "Deleted: sha256:83e02988213471dde80a1d0694d6beef615a74ab300d8bedf3f429e5ddb4082c\r\n",
      "Deleted: sha256:73f64dc02f96c7a9515d9dc94d6e0afa1ac9c0d2639b3522f70fe484857cf944\r\n",
      "Deleted: sha256:e111832e869c91ee4179747f47bb3744150b6dc7c2aa436a043020e06e1be405\r\n",
      "Deleted: sha256:ca64bfb0614195eea824868d9fed85b0a36614506af607d28050eb5785e7c4ca\r\n",
      "Deleted: sha256:5ebaead3cc58368dfee19eb91e454ebae2e946f19246037d7d0abe6334bdf7ac\r\n",
      "Deleted: sha256:9298ea1c34471b00fcd95e0722ffe9a525d7c5cb0aac39c1db93a4cb04bfac4d\r\n",
      "Deleted: sha256:d19dd6d899c0ef4817b3152e93fe848a75cb446e04ae720997073c6c0be7bd48\r\n",
      "Deleted: sha256:a70ae9d6859dc5a5ba818d89c277a7a901b321639c1e4f43f3e437e85a1294ad\r\n",
      "Deleted: sha256:6432945d01e8a62192efb830ff7c09c748edc070666c21948b83e7816127de8d\r\n",
      "Deleted: sha256:7e2285192d77605c0af4e22d5cd3aad8efe3882efaaf847c4ce4b0292ad314a2\r\n",
      "Deleted: sha256:d30ac4feef3ba88661d9c6cd16e5648a42f8fb477641118765347fd63d012287\r\n",
      "Deleted: sha256:045804dfa901a60d30222a07f00c93cd4dafb0cb2b338ae4b0a3fd3f8ae73411\r\n",
      "Deleted: sha256:2c71ece37b3cd4fff63f4744a078b18c338d098b3cea11fef3d71647d3ae6a64\r\n",
      "Deleted: sha256:3f64442f136623ad9787ebe712cdb7de9177c10cf08a354118607d56d4ed552c\r\n"
     ]
    }
   ],
   "source": [
    "!docker rmi thbeh/test"
   ]
  },
  {
   "cell_type": "code",
   "execution_count": null,
   "metadata": {},
   "outputs": [],
   "source": []
  }
 ],
 "metadata": {
  "kernelspec": {
   "display_name": "Python 3",
   "language": "python",
   "name": "python3"
  },
  "language_info": {
   "codemirror_mode": {
    "name": "ipython",
    "version": 3
   },
   "file_extension": ".py",
   "mimetype": "text/x-python",
   "name": "python",
   "nbconvert_exporter": "python",
   "pygments_lexer": "ipython3",
   "version": "3.5.2"
  }
 },
 "nbformat": 4,
 "nbformat_minor": 2
}

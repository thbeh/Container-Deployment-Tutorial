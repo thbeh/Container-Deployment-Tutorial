{
 "cells": [
  {
   "cell_type": "code",
   "execution_count": 7,
   "metadata": {},
   "outputs": [
    {
     "name": "stdout",
     "output_type": "stream",
     "text": [
      "CONTAINER ID        IMAGE               COMMAND                  CREATED             STATUS              PORTS                    NAMES\r\n",
      "6654947b58c4        thbeh/collections   \"/opt/mapr/install...\"   About an hour ago   Up About an hour    0.0.0.0:6002->8000/tcp   doscoring\r\n",
      "4ee8753aef2e        0a0124795405        \"/opt/mapr/install...\"   3 hours ago         Up 3 hours          0.0.0.0:6001->8000/tcp   refreshmodel\r\n",
      "94e07e872e70        thbeh/test          \"/opt/mapr/install...\"   4 hours ago         Up 4 hours          0.0.0.0:6060->8080/tcp   score\r\n"
     ]
    }
   ],
   "source": [
    "!docker ps -a"
   ]
  },
  {
   "cell_type": "code",
   "execution_count": 42,
   "metadata": {},
   "outputs": [
    {
     "name": "stdout",
     "output_type": "stream",
     "text": [
      "Error response from daemon: You cannot remove a running container 4ee8753aef2ede23b6fab85bd12a4e392fd0e8d831ef696aa5cefb33847d8015. Stop the container before attempting removal or use -f\r\n"
     ]
    }
   ],
   "source": [
    "!docker rm 4ee8753aef2e"
   ]
  },
  {
   "cell_type": "code",
   "execution_count": 43,
   "metadata": {},
   "outputs": [
    {
     "name": "stdout",
     "output_type": "stream",
     "text": [
      "Error response from daemon: conflict: unable to delete 0a0124795405 (cannot be forced) - image is being used by running container 4ee8753aef2e\r\n"
     ]
    }
   ],
   "source": [
    "!docker rmi 0a0124795405"
   ]
  },
  {
   "cell_type": "code",
   "execution_count": null,
   "metadata": {},
   "outputs": [],
   "source": []
  }
 ],
 "metadata": {
  "kernelspec": {
   "display_name": "Python 3",
   "language": "python",
   "name": "python3"
  },
  "language_info": {
   "codemirror_mode": {
    "name": "ipython",
    "version": 3
   },
   "file_extension": ".py",
   "mimetype": "text/x-python",
   "name": "python",
   "nbconvert_exporter": "python",
   "pygments_lexer": "ipython3",
   "version": "3.5.2"
  }
 },
 "nbformat": 4,
 "nbformat_minor": 2
}

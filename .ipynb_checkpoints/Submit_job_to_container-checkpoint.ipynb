{
 "cells": [
  {
   "cell_type": "markdown",
   "metadata": {},
   "source": [
    "Refresh the model"
   ]
  },
  {
   "cell_type": "code",
   "execution_count": 5,
   "metadata": {},
   "outputs": [
    {
     "name": "stdout",
     "output_type": "stream",
     "text": [
      "The history saving thread hit an unexpected error (OperationalError('database is locked',)).History will not be written to the database.\n",
      "[\"/poc/AZ/Kate/OR_IR6_2017-11-28_modelling.RData\"]"
     ]
    }
   ],
   "source": [
    "!curl --data \"model='OR', returnName='IR6', projectStage='TEST', nrows=1000, modelCatPath='/poc/AZ/Kate/'\" http://localhost:6000/refreshmodel"
   ]
  },
  {
   "cell_type": "markdown",
   "metadata": {},
   "source": [
    "Run the scoring"
   ]
  },
  {
   "cell_type": "code",
   "execution_count": null,
   "metadata": {},
   "outputs": [],
   "source": [
    "!curl --data \"model='OR', returnName='IR6', modelRunDate='2017-11-28', projectStage='TEST', nrows=1000, irdNumbersForScoring=''\" http://localhost:6001/doscoring"
   ]
  }
 ],
 "metadata": {
  "kernelspec": {
   "display_name": "Python 3",
   "language": "python",
   "name": "python3"
  },
  "language_info": {
   "codemirror_mode": {
    "name": "ipython",
    "version": 3
   },
   "file_extension": ".py",
   "mimetype": "text/x-python",
   "name": "python",
   "nbconvert_exporter": "python",
   "pygments_lexer": "ipython3",
   "version": "3.5.2"
  }
 },
 "nbformat": 4,
 "nbformat_minor": 2
}

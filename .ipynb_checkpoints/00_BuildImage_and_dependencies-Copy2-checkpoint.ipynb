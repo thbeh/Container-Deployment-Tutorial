{
 "cells": [
  {
   "cell_type": "code",
   "execution_count": null,
   "metadata": {},
   "outputs": [],
   "source": [
    "!docker version"
   ]
  },
  {
   "cell_type": "code",
   "execution_count": null,
   "metadata": {
    "scrolled": true
   },
   "outputs": [],
   "source": [
    "!mkdir flaskwebapp\n",
    "!mkdir flaskwebapp/code\n",
    "!mkdir flaskwebapp/etc"
   ]
  },
  {
   "cell_type": "code",
   "execution_count": null,
   "metadata": {},
   "outputs": [],
   "source": [
    "!cp /poc/AZ/Kate/returnsModel_2.1-8.tar.gz flaskwebapp/code/\n",
    "!cp /poc/AZ/Kate/OR_IR6_2017-11-28_modelling.RData flaskwebapp/code/"
   ]
  },
  {
   "cell_type": "code",
   "execution_count": null,
   "metadata": {},
   "outputs": [],
   "source": [
    "import os\n",
    "from os import path\n",
    "import json \n",
    "\n",
    "image_name = \"thbeh/collections\"\n",
    "application_path = 'flaskwebapp'\n",
    "docker_file_location = path.join(application_path, 'Dockerfile')"
   ]
  },
  {
   "cell_type": "code",
   "execution_count": null,
   "metadata": {},
   "outputs": [],
   "source": [
    "%%writefile flaskwebapp/packages.R\n",
    "#install.packages(c(\"randomForest\"), \n",
    "#                   repos = \"http://cran.us.r-project.org\", dependencies = TRUE)\n",
    "\n",
    "## install.packages(\"/poc/AZ/Kate/returnsModel_2.1-6.tar.gz\", repos = NULL, type = \"source\")\n"
   ]
  },
  {
   "cell_type": "code",
   "execution_count": null,
   "metadata": {},
   "outputs": [],
   "source": [
    "%%writefile flaskwebapp/code/scoreDrill.R\n",
    "\n",
    "#suppressMessages(library(psych))\n",
    "#suppressMessages(library(jsonlite))\n",
    "#suppressMessages(library(sergeant))\n",
    "suppressMessages(library(returnsModel))\n",
    "\n",
    "options(warn = -1)\n",
    "\n",
    "#* @post /predict\n",
    "runModel <- function(nr) {\n",
    "    RunModellingAndScoringTest(model=\"OR\", returnName=\"IR6\", projectStage=\"TEST\", nrows=nr)\n",
    "}\n",
    "\n",
    "#* @post /refreshmodel\n",
    "refreshmodel <- function(model=\"OR\", returnName=\"IR6\", projectStage=\"TEST\", nrows=1000){\n",
    "    \n",
    "    output <- RefreshModel(model=model, returnName=returnName, projectStage=projectStage, nrows=nrows)\n",
    "    AssignOutput(output, env= environment())\n",
    "  \n",
    "    runDate <- format(Sys.Date(), \"%Y-%m-%d\")\n",
    "    imageName <- paste0(\"/code/\", model,\"_\", returnName, \"_\", runDate, \"_modelling.RData\") \n",
    "    save(list=names(output), file=imageName, envir=e)\n",
    "    imageName\n",
    "}\n",
    "\n",
    "\n",
    "#* @post /testload\n",
    "testload <- function(){\n",
    "    e <<- .GlobalEnv\n",
    "    load(\"/code/OR_IR6_2017-11-28_modelling.RData\", envir=e)\n",
    "    print(e$covYearsBack)\n",
    "}\n",
    "\n",
    "\n",
    "#* @post /doscoring\n",
    "doscoring <- function(model=\"OR\", returnName=\"IR6\", modelRunDate=\"2017-11-28\", projectStage=\"TEST\", nrows=1000, \n",
    "              irdNumbersForScoring=\"\"){\n",
    "    e <<- .GlobalEnv\n",
    "    imageName <- paste0(model, \"_\", returnName, \"_\", modelRunDate, \"_modelling.RData\")\n",
    "    load(paste0(\"/code/\", imageName), envir=e)\n",
    "    \n",
    "    e$model <- model\n",
    "    e$returnName <- returnName\n",
    "    e$modelRunDate <- modelRunDate\n",
    "    e$projectStage <- projectStage\n",
    "    e$nrows <- nrows\n",
    "    e$irdNumbersForScoring <- irdNumbersForScoring\n",
    "    \n",
    "    DoScoring(model=e$model, returnName=e$returnName, modelRunDate=e$modelRunDate, projectStage=e$projectStage, \n",
    "              nrows=e$nrows, irdNumbersForScoring=e$irdNumbersForScoring, e=e)\n",
    "    \n",
    "}\n"
   ]
  },
  {
   "cell_type": "code",
   "execution_count": null,
   "metadata": {},
   "outputs": [],
   "source": [
    "%%writefile flaskwebapp/etc/supervisord.conf\n",
    "[supervisord]\n",
    "logfile=/tmp/supervisord.log ; (main log file;default $CWD/supervisord.log)\n",
    "logfile_maxbytes=50MB        ; (max main logfile bytes b4 rotation;default 50MB)\n",
    "logfile_backups=10           ; (num of main logfile rotation backups;default 10)\n",
    "loglevel=info                ; (log level;default info; others: debug,warn,trace)\n",
    "pidfile=/tmp/supervisord.pid ; (supervisord pidfile;default supervisord.pid)\n",
    "nodaemon=true               ; (start in foreground if true;default false)\n",
    "minfds=1024                  ; (min. avail startup file descriptors;default 1024)\n",
    "minprocs=200                 ; (min. avail process descriptors;default 200)\n",
    "\n",
    "[program:plumber]\n",
    "command=/usr/bin/Rscript -e \"pr <- plumber::plumb('/code/scoreDrill.R'); pr$run(host='0.0.0.0', port=8000)\"\n",
    "startretries=2\n",
    "startsecs=5\n",
    "priority=3\n",
    "\n",
    "[eventlistener:program_exit]\n",
    "command=python kill_supervisor.py\n",
    "directory=/code\n",
    "events=PROCESS_STATE_FATAL\n",
    "priority=2"
   ]
  },
  {
   "cell_type": "code",
   "execution_count": null,
   "metadata": {},
   "outputs": [],
   "source": [
    "%%writefile flaskwebapp/Dockerfile\n",
    "FROM thbeh/r-base:3.4.2\n",
    "\n",
    "RUN apt-get update && apt-get install -y supervisor libxml2-dev\n",
    "\n",
    "COPY packages.R /tmp/\n",
    "COPY scoreDrill.R /tmp/\n",
    "\n",
    "RUN mkdir /code\n",
    "ADD code /code\n",
    "ADD etc /etc\n",
    "\n",
    "RUN Rscript /tmp/packages.R\n",
    "RUN R CMD INSTALL /code/returnsModel_2.1-8.tar.gz\n",
    "\n",
    "EXPOSE 8000\n",
    "CMD [\"supervisord\",\"-c\", \"/etc/supervisord.conf\"]\n"
   ]
  },
  {
   "cell_type": "code",
   "execution_count": null,
   "metadata": {},
   "outputs": [],
   "source": [
    "! ls -l flaskwebapp/code"
   ]
  },
  {
   "cell_type": "code",
   "execution_count": null,
   "metadata": {
    "scrolled": false
   },
   "outputs": [],
   "source": [
    "!docker build -t $image_name -f $docker_file_location $application_path --no-cache"
   ]
  },
  {
   "cell_type": "code",
   "execution_count": 6,
   "metadata": {},
   "outputs": [
    {
     "name": "stdout",
     "output_type": "stream",
     "text": [
      "Error response from daemon: You cannot remove a running container 4ee8753aef2ede23b6fab85bd12a4e392fd0e8d831ef696aa5cefb33847d8015. Stop the container before attempting removal or use -f\r\n"
     ]
    }
   ],
   "source": [
    "!docker rm refreshmodel"
   ]
  },
  {
   "cell_type": "code",
   "execution_count": null,
   "metadata": {},
   "outputs": [],
   "source": [
    "!docker run -it -e MAPR_CLUSTER=maprlab -e MAPR_CLDB_HOSTS=mapr-1,mapr-2,mapr-3 -e MAPR_CONTAINER_USER=mapr -e MAPR_CONTAINER_UID=5000 -e MAPR_CONTAINER_GID=5000 -e MAPR_CONTAINER_GROUP=mapr -e MAPR_MOUNT_POINT=/mapr --device /dev/fuse --security-opt apparmor:unconfined --name refreshmodel -p 6001:8000 $image_name "
   ]
  },
  {
   "cell_type": "code",
   "execution_count": 5,
   "metadata": {},
   "outputs": [
    {
     "name": "stdout",
     "output_type": "stream",
     "text": [
      "Untagged: thbeh/collections:latest\r\n",
      "Deleted: sha256:cbbedadf9eda464445064f4ca23dcbeef5a83ac45398baba060dc8904de6636d\r\n",
      "Deleted: sha256:68f172009f63aaf588d4fa2b4f918c117670c515d5901da6b18b9e38a9228a73\r\n",
      "Deleted: sha256:b7691e2d752337cc155b3a9fb9892db0862dff7c64e75ef2133cabf4decd2799\r\n",
      "Deleted: sha256:3c0f8cff3f9da669a8f9a20c1ec3bd6ad319d3c12a2099b6cba83a7fe8d29309\r\n",
      "Deleted: sha256:e0778f0ed8e9c63d67e91d26b47b9f767b886d3850fe7a351404a6dcd5efdad3\r\n",
      "Deleted: sha256:a7ef82dec81a87a9b7c3a4f99b25e32e2d8714f81bf6c2bb203ecccdea1478c9\r\n",
      "Deleted: sha256:1880f7800dc7e04c841700d2f3edb9284df1e693e16d900a0701607556b10bad\r\n",
      "Deleted: sha256:117ca0ed8c2152f66db11bac7bd18f7aaf72e95751326a8e88930751d075686b\r\n",
      "Deleted: sha256:c5b301c763a4ee1a10c6137f85278689abbd2f063cadf0bb8addd189dc57928b\r\n",
      "Deleted: sha256:1ae2fb8080fc10a90928a8f0933bf93cc19921288f8979fcffbd5626c8b08870\r\n",
      "Deleted: sha256:72531f767d28aa5b691bb2c795c0923a3efee7bb968c97611795355b9689411b\r\n",
      "Deleted: sha256:3321a3390a9858f588ea47301801f150a939f0451e2e716deca8e982776a198a\r\n",
      "Deleted: sha256:f6011449c7c1fecf9f54038c8d676063ace978b74c05bedbfbdb63fbaa3ed2e0\r\n",
      "Deleted: sha256:8b3b5bd2bd5eea11c58992d14793510fd0a955b908ef948c40b7f3777151a4cb\r\n",
      "Deleted: sha256:54aee26fdd43839aa153ba089c2de957f45b6dcfe0454eaae0fdc4fbd87e488c\r\n",
      "Deleted: sha256:fc9e90fbc3db4a676c5297efddb65624346122dd86cfed5c324b07a3e723f85d\r\n",
      "Deleted: sha256:952c31fb7c2f4053ae5f77b99fdc24225100a221db6841356f283478d40bf818\r\n",
      "Deleted: sha256:6104ed6bf875c12c0674e79fb172292d28befa64d50ea69648f9f288fb21842b\r\n"
     ]
    }
   ],
   "source": [
    "!docker rmi thbeh/collections"
   ]
  },
  {
   "cell_type": "code",
   "execution_count": null,
   "metadata": {},
   "outputs": [],
   "source": []
  }
 ],
 "metadata": {
  "kernelspec": {
   "display_name": "Python 3",
   "language": "python",
   "name": "python3"
  },
  "language_info": {
   "codemirror_mode": {
    "name": "ipython",
    "version": 3
   },
   "file_extension": ".py",
   "mimetype": "text/x-python",
   "name": "python",
   "nbconvert_exporter": "python",
   "pygments_lexer": "ipython3",
   "version": "3.5.2"
  }
 },
 "nbformat": 4,
 "nbformat_minor": 2
}

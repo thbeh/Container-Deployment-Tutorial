{
 "cells": [
  {
   "cell_type": "code",
   "execution_count": null,
   "metadata": {},
   "outputs": [],
   "source": [
    "!docker version"
   ]
  },
  {
   "cell_type": "code",
   "execution_count": null,
   "metadata": {
    "scrolled": true
   },
   "outputs": [],
   "source": [
    "!mkdir flaskwebapp\n",
    "!mkdir flaskwebapp/code\n",
    "!mkdir flaskwebapp/etc"
   ]
  },
  {
   "cell_type": "code",
   "execution_count": null,
   "metadata": {},
   "outputs": [],
   "source": [
    "!cp /poc/AZ/Kate/returnsModel_2.1-8.tar.gz flaskwebapp/code/\n",
    "!cp /poc/AZ/Kate/OR_IR6_2017-11-28_modelling.RData flaskwebapp/code/"
   ]
  },
  {
   "cell_type": "code",
   "execution_count": null,
   "metadata": {},
   "outputs": [],
   "source": [
    "import os\n",
    "from os import path\n",
    "import json \n",
    "\n",
    "image_name = \"thbeh/collections\"\n",
    "application_path = 'flaskwebapp'\n",
    "docker_file_location = path.join(application_path, 'Dockerfile')"
   ]
  },
  {
   "cell_type": "code",
   "execution_count": null,
   "metadata": {},
   "outputs": [],
   "source": [
    "%%writefile flaskwebapp/packages.R\n",
    "#install.packages(c(\"randomForest\"), \n",
    "#                   repos = \"http://cran.us.r-project.org\", dependencies = TRUE)\n",
    "\n",
    "## install.packages(\"/poc/AZ/Kate/returnsModel_2.1-6.tar.gz\", repos = NULL, type = \"source\")\n"
   ]
  },
  {
   "cell_type": "code",
   "execution_count": null,
   "metadata": {},
   "outputs": [],
   "source": [
    "%%writefile flaskwebapp/code/scoreDrill.R\n",
    "\n",
    "#suppressMessages(library(psych))\n",
    "#suppressMessages(library(jsonlite))\n",
    "#suppressMessages(library(sergeant))\n",
    "suppressMessages(library(returnsModel))\n",
    "\n",
    "options(warn = -1)\n",
    "\n",
    "#* @post /predict\n",
    "runModel <- function(nr) {\n",
    "    RunModellingAndScoringTest(model=\"OR\", returnName=\"IR6\", projectStage=\"TEST\", nrows=nr)\n",
    "}\n",
    "\n",
    "#* @post /domodelling\n",
    "refreshmodel <- function(model=\"OR\", returnName=\"IR6\", projectStage=\"TEST\", nrows=1000){\n",
    "    \n",
    "    RefreshModel(model=model, returnName=returnName, projectStage=projectStage, nrows=nrows)\n",
    "    \n",
    "    #output <- RefreshModel(model=model, returnName=returnName, projectStage=projectStage, nrows=nrows)\n",
    "    #AssignOutput(output, env= environment())\n",
    "  \n",
    "    #runDate <- format(Sys.Date(), \"%Y-%m-%d\")\n",
    "    #imageName <- paste0(\"/code/\", model,\"_\", returnName, \"_\", runDate, \"_modelling.RData\") \n",
    "    #save(list=names(output), file=imageName)\n",
    "    #imageName\n",
    "}\n",
    "\n",
    "\n",
    "#* @post /testload\n",
    "testload <- function(){\n",
    "    e <<- .GlobalEnv\n",
    "    load(\"/code/OR_IR6_2017-11-28_modelling.RData\", envir=e)\n",
    "    print(e$covYearsBack)\n",
    "}\n",
    "\n",
    "\n",
    "#* @post /doscoring\n",
    "doscoring <- function(model=\"OR\", returnName=\"IR6\", modelRunDate=\"2017-11-28\", projectStage=\"TEST\", nrows=1000, \n",
    "              irdNumbersForScoring=\"\"){\n",
    "    e <<- .GlobalEnv\n",
    "    imageName <- paste0(model, \"_\", returnName, \"_\", modelRunDate, \"_modelling.RData\")\n",
    "    load(paste0(\"/code/\", imageName), envir=e)\n",
    "    \n",
    "    e$model <- model\n",
    "    e$returnName <- returnName\n",
    "    e$modelRunDate <- modelRunDate\n",
    "    e$projectStage <- projectStage\n",
    "    e$nrows <- nrows\n",
    "    e$irdNumbersForScoring <- irdNumbersForScoring\n",
    "    \n",
    "    DoScoring(model=e$model, returnName=e$returnName, modelRunDate=e$modelRunDate, projectStage=e$projectStage, \n",
    "              nrows=e$nrows, irdNumbersForScoring=e$irdNumbersForScoring, e=e)\n",
    "    \n",
    "}\n"
   ]
  },
  {
   "cell_type": "code",
   "execution_count": null,
   "metadata": {},
   "outputs": [],
   "source": [
    "%%writefile flaskwebapp/etc/supervisord.conf\n",
    "[supervisord]\n",
    "logfile=/tmp/supervisord.log ; (main log file;default $CWD/supervisord.log)\n",
    "logfile_maxbytes=50MB        ; (max main logfile bytes b4 rotation;default 50MB)\n",
    "logfile_backups=10           ; (num of main logfile rotation backups;default 10)\n",
    "loglevel=info                ; (log level;default info; others: debug,warn,trace)\n",
    "pidfile=/tmp/supervisord.pid ; (supervisord pidfile;default supervisord.pid)\n",
    "nodaemon=true               ; (start in foreground if true;default false)\n",
    "minfds=1024                  ; (min. avail startup file descriptors;default 1024)\n",
    "minprocs=200                 ; (min. avail process descriptors;default 200)\n",
    "\n",
    "[program:plumber]\n",
    "command=/usr/bin/Rscript -e \"pr <- plumber::plumb('/code/scoreDrill.R'); pr$run(host='0.0.0.0', port=8000)\"\n",
    "startretries=2\n",
    "startsecs=5\n",
    "priority=3\n",
    "\n",
    "[eventlistener:program_exit]\n",
    "command=python kill_supervisor.py\n",
    "directory=/code\n",
    "events=PROCESS_STATE_FATAL\n",
    "priority=2"
   ]
  },
  {
   "cell_type": "code",
   "execution_count": null,
   "metadata": {},
   "outputs": [],
   "source": [
    "%%writefile flaskwebapp/Dockerfile\n",
    "FROM thbeh/r-base:3.4.2\n",
    "\n",
    "RUN apt-get update && apt-get install -y supervisor libxml2-dev\n",
    "\n",
    "COPY packages.R /tmp/\n",
    "COPY scoreDrill.R /tmp/\n",
    "\n",
    "RUN mkdir /code\n",
    "ADD code /code\n",
    "ADD etc /etc\n",
    "\n",
    "RUN Rscript /tmp/packages.R\n",
    "RUN R CMD INSTALL /code/returnsModel_2.1-8.tar.gz\n",
    "\n",
    "EXPOSE 8000\n",
    "CMD [\"supervisord\",\"-c\", \"/etc/supervisord.conf\"]\n"
   ]
  },
  {
   "cell_type": "code",
   "execution_count": null,
   "metadata": {},
   "outputs": [],
   "source": [
    "! ls -l flaskwebapp/code"
   ]
  },
  {
   "cell_type": "code",
   "execution_count": null,
   "metadata": {
    "scrolled": false
   },
   "outputs": [],
   "source": [
    "!docker build -t $image_name -f $docker_file_location $application_path --no-cache"
   ]
  },
  {
   "cell_type": "code",
   "execution_count": null,
   "metadata": {},
   "outputs": [],
   "source": [
    "!docker rm domodelling"
   ]
  },
  {
   "cell_type": "code",
   "execution_count": null,
   "metadata": {},
   "outputs": [],
   "source": [
    "!docker run -it -e MAPR_CLUSTER=maprlab -e MAPR_CLDB_HOSTS=mapr-1,mapr-2,mapr-3 -e MAPR_CONTAINER_USER=mapr -e MAPR_CONTAINER_UID=5000 -e MAPR_CONTAINER_GID=5000 -e MAPR_CONTAINER_GROUP=mapr -e MAPR_MOUNT_POINT=/mapr --device /dev/fuse --security-opt apparmor:unconfined --name doscoring -p 6002:8000 $image_name "
   ]
  },
  {
   "cell_type": "code",
   "execution_count": null,
   "metadata": {},
   "outputs": [],
   "source": []
  }
 ],
 "metadata": {
  "kernelspec": {
   "display_name": "Python 3",
   "language": "python",
   "name": "python3"
  },
  "language_info": {
   "codemirror_mode": {
    "name": "ipython",
    "version": 3
   },
   "file_extension": ".py",
   "mimetype": "text/x-python",
   "name": "python",
   "nbconvert_exporter": "python",
   "pygments_lexer": "ipython3",
   "version": "3.5.2"
  }
 },
 "nbformat": 4,
 "nbformat_minor": 2
}

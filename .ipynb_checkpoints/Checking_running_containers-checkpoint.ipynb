{
 "cells": [
  {
   "cell_type": "code",
   "execution_count": 1,
   "metadata": {},
   "outputs": [
    {
     "name": "stdout",
     "output_type": "stream",
     "text": [
      "Client:\r\n",
      " Version:      1.13.1\r\n",
      " API version:  1.26\r\n",
      " Go version:   go1.6.2\r\n",
      " Git commit:   092cba3\r\n",
      " Built:        Thu Nov  2 20:40:23 2017\r\n",
      " OS/Arch:      linux/amd64\r\n",
      "\r\n",
      "Server:\r\n",
      " Version:      1.13.1\r\n",
      " API version:  1.26 (minimum version 1.12)\r\n",
      " Go version:   go1.6.2\r\n",
      " Git commit:   092cba3\r\n",
      " Built:        Thu Nov  2 20:40:23 2017\r\n",
      " OS/Arch:      linux/amd64\r\n",
      " Experimental: false\r\n"
     ]
    }
   ],
   "source": [
    "!docker version"
   ]
  },
  {
   "cell_type": "code",
   "execution_count": 2,
   "metadata": {
    "scrolled": true
   },
   "outputs": [
    {
     "name": "stdout",
     "output_type": "stream",
     "text": [
      "mkdir: cannot create directory ‘flaskwebapp’: File exists\n",
      "mkdir: cannot create directory ‘flaskwebapp/code’: File exists\n",
      "mkdir: cannot create directory ‘flaskwebapp/etc’: File exists\n"
     ]
    }
   ],
   "source": [
    "!mkdir flaskwebapp\n",
    "!mkdir flaskwebapp/code\n",
    "!mkdir flaskwebapp/etc"
   ]
  },
  {
   "cell_type": "code",
   "execution_count": 3,
   "metadata": {},
   "outputs": [],
   "source": [
    "import os\n",
    "from os import path\n",
    "import json \n",
    "\n",
    "image_name = \"thbeh/collections\"\n",
    "application_path = 'flaskwebapp'\n",
    "docker_file_location = path.join(application_path, 'Dockerfile')"
   ]
  },
  {
   "cell_type": "code",
   "execution_count": 4,
   "metadata": {},
   "outputs": [
    {
     "name": "stdout",
     "output_type": "stream",
     "text": [
      "Overwriting flaskwebapp/packages.R\n"
     ]
    }
   ],
   "source": [
    "%%writefile flaskwebapp/packages.R\n",
    "install.packages(c(\"randomForest\"), \n",
    "                    repos = \"http://cran.us.r-project.org\", dependencies = TRUE)"
   ]
  },
  {
   "cell_type": "code",
   "execution_count": 5,
   "metadata": {},
   "outputs": [
    {
     "name": "stdout",
     "output_type": "stream",
     "text": [
      "Overwriting flaskwebapp/code/scoreDrill.R\n"
     ]
    }
   ],
   "source": [
    "%%writefile flaskwebapp/code/scoreDrill.R\n",
    "\n",
    "suppressMessages(library(returnsModel))\n",
    "\n",
    "options(warn = -1)\n",
    "\n",
    "#* @post /sum\n",
    "addTwo <- function(a ,b) {\n",
    "    as.numeric(a) + as.numeric(b)\n",
    "}\n"
   ]
  },
  {
   "cell_type": "code",
   "execution_count": 6,
   "metadata": {},
   "outputs": [
    {
     "name": "stdout",
     "output_type": "stream",
     "text": [
      "Overwriting flaskwebapp/etc/supervisord.conf\n"
     ]
    }
   ],
   "source": [
    "%%writefile flaskwebapp/etc/supervisord.conf\n",
    "[supervisord]\n",
    "logfile=/tmp/supervisord.log ; (main log file;default $CWD/supervisord.log)\n",
    "logfile_maxbytes=50MB        ; (max main logfile bytes b4 rotation;default 50MB)\n",
    "logfile_backups=10           ; (num of main logfile rotation backups;default 10)\n",
    "loglevel=info                ; (log level;default info; others: debug,warn,trace)\n",
    "pidfile=/tmp/supervisord.pid ; (supervisord pidfile;default supervisord.pid)\n",
    "nodaemon=true               ; (start in foreground if true;default false)\n",
    "minfds=1024                  ; (min. avail startup file descriptors;default 1024)\n",
    "minprocs=200                 ; (min. avail process descriptors;default 200)\n",
    "\n",
    "[program:plumber]\n",
    "command=/usr/bin/Rscript -e \"pr <- plumber::plumb('/code/scoreDrill.R'); pr$run(host='0.0.0.0', port=8000)\"\n",
    "startretries=2\n",
    "startsecs=5\n",
    "priority=3\n",
    "\n",
    "[eventlistener:program_exit]\n",
    "command=python kill_supervisor.py\n",
    "directory=/code\n",
    "events=PROCESS_STATE_FATAL\n",
    "priority=2\n"
   ]
  },
  {
   "cell_type": "code",
   "execution_count": 7,
   "metadata": {},
   "outputs": [
    {
     "name": "stdout",
     "output_type": "stream",
     "text": [
      "Overwriting flaskwebapp/Dockerfile\n"
     ]
    }
   ],
   "source": [
    "%%writefile flaskwebapp/Dockerfile\n",
    "FROM thbeh/r-base:3.4.2\n",
    "\n",
    "RUN apt-get update && apt-get install -y supervisor libxml2-dev\n",
    "\n",
    "COPY packages.R /tmp/\n",
    "\n",
    "RUN mkdir /code\n",
    "ADD code /code\n",
    "ADD etc /etc\n",
    "\n",
    "RUN Rscript /tmp/packages.R\n",
    "\n",
    "EXPOSE 8000\n",
    "CMD [\"supervisord\",\"-c\", \"/etc/supervisord.conf\"]\n",
    "\n"
   ]
  },
  {
   "cell_type": "code",
   "execution_count": 8,
   "metadata": {},
   "outputs": [
    {
     "name": "stdout",
     "output_type": "stream",
     "text": [
      "Sending build context to Docker daemon 17.41 kB\n",
      "Step 1/9 : FROM thbeh/r-base:3.4.2\n",
      " ---> 64cb364c592f\n",
      "Step 2/9 : RUN apt-get update && apt-get install -y supervisor libxml2-dev\n",
      " ---> Running in 8964402ea26a\n",
      "Get:1 http://security.ubuntu.com/ubuntu xenial-security InRelease [102 kB]\n",
      "Get:2 http://ppa.launchpad.net/marutter/c2d4u/ubuntu xenial InRelease [17.5 kB]\n",
      "Get:3 http://archive.ubuntu.com/ubuntu xenial InRelease [247 kB]\n",
      "Ign:4 http://package.mapr.com/releases/v5.2.2/ubuntu binary InRelease\n",
      "Ign:5 http://package.mapr.com/releases/MEP/MEP-3.0.1/ubuntu binary InRelease\n",
      "Get:6 http://package.mapr.com/releases/v5.2.2/ubuntu binary Release [2,728 B]\n",
      "Get:7 http://package.mapr.com/releases/MEP/MEP-3.0.1/ubuntu binary Release [2,728 B]\n",
      "Get:8 http://package.mapr.com/releases/v5.2.2/ubuntu binary Release.gpg [475 B]\n",
      "Get:9 http://package.mapr.com/releases/MEP/MEP-3.0.1/ubuntu binary Release.gpg [475 B]\n",
      "Get:10 http://package.mapr.com/releases/v5.2.2/ubuntu binary/trusty amd64 Packages [3,249 B]\n",
      "Get:11 http://package.mapr.com/releases/MEP/MEP-3.0.1/ubuntu binary/trusty amd64 Packages [10.8 kB]\n",
      "Get:12 http://ppa.launchpad.net/marutter/rrutter/ubuntu xenial InRelease [17.5 kB]\n",
      "Get:13 http://security.ubuntu.com/ubuntu xenial-security/universe Sources [53.1 kB]\n",
      "Get:14 http://archive.ubuntu.com/ubuntu xenial-updates InRelease [102 kB]\n",
      "Get:15 http://security.ubuntu.com/ubuntu xenial-security/main amd64 Packages [504 kB]\n",
      "Get:16 http://archive.ubuntu.com/ubuntu xenial-backports InRelease [102 kB]\n",
      "Get:17 http://ppa.launchpad.net/marutter/c2d4u/ubuntu xenial/main Sources [1,277 kB]\n",
      "Get:18 http://archive.ubuntu.com/ubuntu xenial/universe Sources [9,802 kB]\n",
      "Get:19 http://security.ubuntu.com/ubuntu xenial-security/restricted amd64 Packages [12.9 kB]\n",
      "Get:20 http://security.ubuntu.com/ubuntu xenial-security/universe amd64 Packages [229 kB]\n",
      "Get:21 http://security.ubuntu.com/ubuntu xenial-security/multiverse amd64 Packages [3,479 B]\n",
      "Get:22 http://archive.ubuntu.com/ubuntu xenial/main amd64 Packages [1,558 kB]\n",
      "Get:23 http://archive.ubuntu.com/ubuntu xenial/restricted amd64 Packages [14.1 kB]\n",
      "Get:24 http://archive.ubuntu.com/ubuntu xenial/universe amd64 Packages [9,827 kB]\n",
      "Get:25 http://archive.ubuntu.com/ubuntu xenial/multiverse amd64 Packages [176 kB]\n",
      "Get:26 http://archive.ubuntu.com/ubuntu xenial-updates/universe Sources [228 kB]\n",
      "Get:27 http://archive.ubuntu.com/ubuntu xenial-updates/main amd64 Packages [864 kB]\n",
      "Get:28 http://archive.ubuntu.com/ubuntu xenial-updates/restricted amd64 Packages [13.7 kB]\n",
      "Get:29 http://archive.ubuntu.com/ubuntu xenial-updates/universe amd64 Packages [711 kB]\n",
      "Get:30 http://archive.ubuntu.com/ubuntu xenial-updates/multiverse amd64 Packages [18.5 kB]\n",
      "Get:31 http://archive.ubuntu.com/ubuntu xenial-backports/main amd64 Packages [5,174 B]\n",
      "Get:32 http://archive.ubuntu.com/ubuntu xenial-backports/universe amd64 Packages [7,135 B]\n",
      "Get:33 http://ppa.launchpad.net/marutter/c2d4u/ubuntu xenial/main amd64 Packages [666 kB]\n",
      "Get:34 http://ppa.launchpad.net/marutter/rrutter/ubuntu xenial/main Sources [10.8 kB]\n",
      "Get:35 http://ppa.launchpad.net/marutter/rrutter/ubuntu xenial/main amd64 Packages [8,639 B]\n",
      "Fetched 26.6 MB in 13s (2,029 kB/s)\n",
      "Reading package lists...\n",
      "Reading package lists...\n",
      "Building dependency tree...\n",
      "Reading state information...\n",
      "The following additional packages will be installed:\n",
      "  python-meld3\n",
      "Suggested packages:\n",
      "  supervisor-doc\n",
      "The following NEW packages will be installed:\n",
      "  libxml2-dev python-meld3 supervisor\n",
      "0 upgraded, 3 newly installed, 0 to remove and 2 not upgraded.\n",
      "Need to get 1,028 kB of archives.\n",
      "After this operation, 5,068 kB of additional disk space will be used.\n",
      "Get:1 http://archive.ubuntu.com/ubuntu xenial-updates/main amd64 libxml2-dev amd64 2.9.3+dfsg1-1ubuntu0.3 [744 kB]\n",
      "Get:2 http://archive.ubuntu.com/ubuntu xenial/universe amd64 python-meld3 all 1.0.2-2 [30.9 kB]\n",
      "Get:3 http://archive.ubuntu.com/ubuntu xenial-updates/universe amd64 supervisor all 3.2.0-2ubuntu0.1 [253 kB]\n",
      "\u001b[91mdebconf: unable to initialize frontend: Dialog\n",
      "debconf: (TERM is not set, so the dialog frontend is not usable.)\n",
      "debconf: falling back to frontend: Readline\n",
      "\u001b[0m\u001b[91mdebconf: unable to initialize frontend: Readline\n",
      "debconf: (This frontend requires a controlling tty.)\n",
      "debconf: falling back to frontend: Teletype\n",
      "\u001b[0m\u001b[91mdpkg-preconfigure: unable to re-open stdin: \n",
      "\u001b[0mFetched 1,028 kB in 2s (441 kB/s)\n",
      "Selecting previously unselected package libxml2-dev:amd64.\n",
      "(Reading database ... 27237 files and directories currently installed.)\n",
      "Preparing to unpack .../libxml2-dev_2.9.3+dfsg1-1ubuntu0.3_amd64.deb ...\n",
      "Unpacking libxml2-dev:amd64 (2.9.3+dfsg1-1ubuntu0.3) ...\n",
      "Selecting previously unselected package python-meld3.\n",
      "Preparing to unpack .../python-meld3_1.0.2-2_all.deb ...\n",
      "Unpacking python-meld3 (1.0.2-2) ...\n",
      "Selecting previously unselected package supervisor.\n",
      "Preparing to unpack .../supervisor_3.2.0-2ubuntu0.1_all.deb ...\n",
      "Unpacking supervisor (3.2.0-2ubuntu0.1) ...\n",
      "Processing triggers for man-db (2.7.5-1) ...\n",
      "Processing triggers for systemd (229-4ubuntu21) ...\n",
      "Setting up libxml2-dev:amd64 (2.9.3+dfsg1-1ubuntu0.3) ...\n",
      "Setting up python-meld3 (1.0.2-2) ...\n",
      "Setting up supervisor (3.2.0-2ubuntu0.1) ...\n",
      "insserv: warning: script 'mapr-fuse' missing LSB tags and overrides\n",
      "invoke-rc.d: could not determine current runlevel\n",
      "invoke-rc.d: policy-rc.d denied execution of start.\n",
      "Processing triggers for systemd (229-4ubuntu21) ...\n",
      " ---> ab589d7148b7\n",
      "Removing intermediate container 8964402ea26a\n",
      "Step 3/9 : COPY packages.R /tmp/\n",
      " ---> d9d9f996dff7\n",
      "Removing intermediate container dea2370c4751\n",
      "Step 4/9 : RUN mkdir /code\n",
      " ---> Running in 76b382b31291\n",
      " ---> 084d7c77b263\n",
      "Removing intermediate container 76b382b31291\n",
      "Step 5/9 : ADD code /code\n",
      " ---> 89a71497ec4e\n",
      "Removing intermediate container fdd44026e6a2\n",
      "Step 6/9 : ADD etc /etc\n",
      " ---> 6094bef4d252\n",
      "Removing intermediate container 90b6f5bab5e4\n",
      "Step 7/9 : RUN Rscript /tmp/packages.R\n",
      " ---> Running in db54a7788c1d\n",
      "\u001b[91mInstalling package into ‘/usr/local/lib/R/site-library’\n",
      "(as ‘lib’ is unspecified)\n",
      "\u001b[0m\u001b[91malso installing the dependency ‘RColorBrewer’\n",
      "\n",
      "\u001b[0m\u001b[91mtrying URL 'http://cran.us.r-project.org/src/contrib/RColorBrewer_1.1-2.tar.gz'\n",
      "\u001b[0m\u001b[91mContent type 'application/x-gzip' length 11532 bytes (11 KB)\n",
      "==========\u001b[0m\u001b[91m=========\u001b[0m\u001b[91m======\u001b[0m\u001b[91m==================\u001b[0m\u001b[91m==\u001b[0m\u001b[91m==\u001b[0m\u001b[91m===\n",
      "downloaded 11 KB\n",
      "\n",
      "\u001b[0m\u001b[91mtrying URL 'http://cran.us.r-project.org/src/contrib/randomForest_4.6-12.tar.gz'\n",
      "\u001b[0m\u001b[91mContent type 'application/x-gzip' length 79566 bytes (77 KB)\n",
      "========\u001b[0m\u001b[91m======\u001b[0m\u001b[91m=====\u001b[0m\u001b[91m=======\u001b[0m\u001b[91m===========\u001b[0m\u001b[91m===\u001b[0m\u001b[91m==\u001b[0m\u001b[91m=\u001b[0m\u001b[91m=======\n",
      "downloaded 77 KB\n",
      "\n",
      "\u001b[0m\u001b[91m* installing *source* package ‘RColorBrewer’ ...\n",
      "\u001b[0m\u001b[91m** package ‘RColorBrewer’ successfully unpacked and MD5 sums checked\n",
      "\u001b[0m\u001b[91m** R\n",
      "\u001b[0m\u001b[91m** inst\n",
      "\u001b[0m\u001b[91m** preparing package for lazy loading\n",
      "\u001b[0m\u001b[91m** help\n",
      "\u001b[0m\u001b[91m*** installing help indices\n",
      "\u001b[0m\u001b[91m** building package indices\n",
      "\u001b[0m\u001b[91m** testing if installed package can be loaded\n",
      "\u001b[0m\u001b[91m* DONE (RColorBrewer)\n",
      "\u001b[0m\u001b[91m* installing *source* package ‘randomForest’ ...\n",
      "\u001b[0m\u001b[91m** package ‘randomForest’ successfully unpacked and MD5 sums checked\n",
      "\u001b[0m\u001b[91m** libs\n",
      "\u001b[0mgcc -std=gnu99 -I/usr/share/R/include -DNDEBUG      -fpic  -g -O2 -fstack-protector-strong -Wformat -Werror=format-security -Wdate-time -D_FORTIFY_SOURCE=2 -g  -c classTree.c -o classTree.o\n",
      "gcc -std=gnu99 -I/usr/share/R/include -DNDEBUG      -fpic  -g -O2 -fstack-protector-strong -Wformat -Werror=format-security -Wdate-time -D_FORTIFY_SOURCE=2 -g  -c regTree.c -o regTree.o\n",
      "gcc -std=gnu99 -I/usr/share/R/include -DNDEBUG      -fpic  -g -O2 -fstack-protector-strong -Wformat -Werror=format-security -Wdate-time -D_FORTIFY_SOURCE=2 -g  -c regrf.c -o regrf.o\n",
      "gcc -std=gnu99 -I/usr/share/R/include -DNDEBUG      -fpic  -g -O2 -fstack-protector-strong -Wformat -Werror=format-security -Wdate-time -D_FORTIFY_SOURCE=2 -g  -c rf.c -o rf.o\n",
      "gfortran   -fpic  -g -O2 -fstack-protector-strong  -c rfsub.f -o rfsub.o\n",
      "gcc -std=gnu99 -I/usr/share/R/include -DNDEBUG      -fpic  -g -O2 -fstack-protector-strong -Wformat -Werror=format-security -Wdate-time -D_FORTIFY_SOURCE=2 -g  -c rfutils.c -o rfutils.o\n"
     ]
    },
    {
     "name": "stdout",
     "output_type": "stream",
     "text": [
      "gcc -std=gnu99 -shared -L/usr/lib/R/lib -Wl,-Bsymbolic-functions -Wl,-z,relro -o randomForest.so classTree.o regTree.o regrf.o rf.o rfsub.o rfutils.o -lgfortran -lm -lquadmath -L/usr/lib/R/lib -lR\n",
      "\u001b[91minstalling to /usr/local/lib/R/site-library/randomForest/libs\n",
      "\u001b[0m\u001b[91m** R\n",
      "\u001b[0m\u001b[91m** data\n",
      "\u001b[0m\u001b[91m** inst\n",
      "\u001b[0m\u001b[91m** preparing package for lazy loading\n",
      "\u001b[0m\u001b[91m** help\n",
      "\u001b[0m\u001b[91m*** installing help indices\n",
      "\u001b[0m\u001b[91m** building package indices\n",
      "\u001b[0m\u001b[91m** testing if installed package can be loaded\n",
      "\u001b[0m\u001b[91m* DONE (randomForest)\n",
      "\u001b[0m\u001b[91m\n",
      "The downloaded source packages are in\n",
      "\t‘/tmp/RtmpMx2yUm/downloaded_packages’\n",
      "\u001b[0m ---> fe1bad5f9301\n",
      "Removing intermediate container db54a7788c1d\n",
      "Step 8/9 : EXPOSE 8000\n",
      " ---> Running in 2048f640d576\n",
      " ---> 325e2e9ae187\n",
      "Removing intermediate container 2048f640d576\n",
      "Step 9/9 : CMD supervisord -c /etc/supervisord.conf\n",
      " ---> Running in 51c18e0c6cf2\n",
      " ---> 45c5a5cec392\n",
      "Removing intermediate container 51c18e0c6cf2\n",
      "Successfully built 45c5a5cec392\n"
     ]
    }
   ],
   "source": [
    "!docker build -t $image_name -f $docker_file_location $application_path --no-cache"
   ]
  },
  {
   "cell_type": "code",
   "execution_count": 9,
   "metadata": {},
   "outputs": [
    {
     "name": "stdout",
     "output_type": "stream",
     "text": [
      "\u001b[!p\u001b[?3;4l\u001b[4l\u001b>\n",
      "Testing for cluster user account... \n",
      "\n",
      "\u001b(B\u001b[mEnter MapR cluster user name: mapr\n",
      " \n",
      "User 'mapr' does not exist. Creating new cluster user account... \n",
      "\n",
      "Enter 'mapr' uid: 5000\n",
      " Enter 'mapr' group name: users\n",
      " Enter 'mapr' password: mapr\n",
      " ...Success \n",
      "\n",
      "Configuring MapR client ( -c -C mapr-1,mapr-2,mapr-3 -N maprlab)... \n",
      "\n",
      "create /opt/mapr/conf/conf.old\n",
      "Configuring Hadoop-2.7.0 at /opt/mapr/hadoop/hadoop-2.7.0\n",
      "Done configuring Hadoop\n",
      "CLDB node list: mapr-1:7222,mapr-2:7222,mapr-3:7222\n",
      "Zookeeper node list: \n",
      "\n",
      "...Success \n",
      "\n",
      "2017-11-27 03:48:03,544 INFO supervisord started with pid 937\n",
      "2017-11-27 03:48:04,546 INFO spawned: 'program_exit' with pid 940\n",
      "2017-11-27 03:48:04,548 INFO spawned: 'plumber' with pid 941\n",
      "2017-11-27 03:48:04,926 INFO exited: plumber (exit status 1; not expected)\n",
      "2017-11-27 03:48:05,927 INFO success: program_exit entered RUNNING state, process has stayed up for > than 1 seconds (startsecs)\n",
      "2017-11-27 03:48:05,928 INFO spawned: 'plumber' with pid 951\n",
      "2017-11-27 03:48:06,294 INFO exited: plumber (exit status 1; not expected)\n",
      "2017-11-27 03:48:08,298 INFO spawned: 'plumber' with pid 961\n",
      "2017-11-27 03:48:08,653 INFO exited: plumber (exit status 1; not expected)\n",
      "2017-11-27 03:48:09,654 INFO gave up: plumber entered FATAL state, too many start retries too quickly\n",
      "2017-11-27 03:48:10,656 WARN program_exit: bad result line: 'Killing supervisor with this event: ver:3.0 server:supervisor serial:0 pool:program_exit poolserial:0 eventname:PROCESS_STATE_FATAL len:56'\n",
      "2017-11-27 03:48:10,656 WARN program_exit: has entered the UNKNOWN state and will no longer receive events, this usually indicates the process violated the eventlistener protocol\n",
      "2017-11-27 03:48:10,657 WARN received SIGQUIT indicating exit request\n",
      "2017-11-27 03:48:10,657 INFO waiting for program_exit to die\n",
      "2017-11-27 03:48:10,658 INFO stopped: program_exit (terminated by SIGTERM)\n"
     ]
    }
   ],
   "source": [
    "!docker run -it -e MAPR_CLUSTER=maprlab -e MAPR_CLDB_HOSTS=mapr-1,mapr-2,mapr-3 -e MAPR_CONTAINER_USER=mapr -e MAPR_CONTAINER_UID=5000 -e MAPR_CONTAINER_GID=5000 -e MAPR_MOUNT_POINT=/mapr --device /dev/fuse --security-opt apparmor:unconfined -p 6000:8000 $image_name "
   ]
  },
  {
   "cell_type": "code",
   "execution_count": 10,
   "metadata": {},
   "outputs": [
    {
     "name": "stdout",
     "output_type": "stream",
     "text": [
      "CONTAINER ID        IMAGE               COMMAND                  CREATED             STATUS                      PORTS               NAMES\r\n",
      "a463ce2ed545        thbeh/collections   \"/opt/mapr/install...\"   44 seconds ago      Exited (0) 33 seconds ago                       relaxed_goldberg\r\n",
      "a6c7e01c1186        d185b977128e        \"/bin/sh -c 'R CMD...\"   6 minutes ago       Exited (1) 6 minutes ago                        modest_bassi\r\n",
      "7ef1c73bcf4b        thbeh/test          \"/opt/mapr/install...\"   32 minutes ago      Exited (0) 6 minutes ago                        gracious_jepsen\r\n",
      "75a76d370714        deb5c24b376c        \"/opt/mapr/install...\"   42 minutes ago      Exited (0) 41 minutes ago                       vigilant_ardinghelli\r\n"
     ]
    }
   ],
   "source": [
    "!docker ps -a"
   ]
  },
  {
   "cell_type": "code",
   "execution_count": null,
   "metadata": {},
   "outputs": [],
   "source": [
    "!docker rm amazing_babbage"
   ]
  },
  {
   "cell_type": "code",
   "execution_count": null,
   "metadata": {},
   "outputs": [],
   "source": [
    "!docker rmi thbeh/collections"
   ]
  },
  {
   "cell_type": "code",
   "execution_count": null,
   "metadata": {},
   "outputs": [],
   "source": []
  }
 ],
 "metadata": {
  "kernelspec": {
   "display_name": "Python 3",
   "language": "python",
   "name": "python3"
  },
  "language_info": {
   "codemirror_mode": {
    "name": "ipython",
    "version": 3
   },
   "file_extension": ".py",
   "mimetype": "text/x-python",
   "name": "python",
   "nbconvert_exporter": "python",
   "pygments_lexer": "ipython3",
   "version": "3.5.2"
  }
 },
 "nbformat": 4,
 "nbformat_minor": 2
}
